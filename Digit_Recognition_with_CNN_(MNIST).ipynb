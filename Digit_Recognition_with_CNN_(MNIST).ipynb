{
  "nbformat": 4,
  "nbformat_minor": 0,
  "metadata": {
    "colab": {
      "provenance": [],
      "gpuType": "T4"
    },
    "kernelspec": {
      "name": "python3",
      "display_name": "Python 3"
    },
    "language_info": {
      "name": "python"
    },
    "accelerator": "GPU"
  },
  "cells": [
    {
      "cell_type": "markdown",
      "source": [
        "#  **Project: Digit Recognition with CNN (MNIST)**\n",
        "\n",
        "**Author:** *Anam Jafar*\\\n",
        "**Date:** *19-09-2025*\\\n",
        "**Dataset Source:** [MNIST Handwritten Digit Database](hhttps://www.kaggle.com/datasets/hojjatk/mnist-dataset/)\n",
        "\n",
        "\n",
        "## **Overview**\n",
        "\n",
        "This project aims to build a **Convolutional Neural Network (CNN)** to classify handwritten digits (0–9) from the MNIST dataset.\n",
        "The MNIST dataset is widely used as a beginner’s benchmark in deep learning and computer vision tasks.\n",
        "\n",
        "\n",
        "\n",
        "## **Objectives**\n",
        "\n",
        "1. Understand the structure of the MNIST dataset (images and labels).\n",
        "2. Preprocess the dataset (normalization, reshaping, encoding).\n",
        "3. Build a CNN architecture suitable for image classification.\n",
        "4. Train the model and visualize performance (accuracy & loss curves).\n",
        "5. Evaluate the model on the test dataset.\n",
        "6. Analyze results using confusion matrix and sample predictions."
      ],
      "metadata": {
        "id": "DPaEgtPKIcUL"
      }
    },
    {
      "cell_type": "markdown",
      "source": [
        "# Step 1 : Data Loading and Exploration"
      ],
      "metadata": {
        "id": "qEo75VP4GdDq"
      }
    },
    {
      "cell_type": "code",
      "source": [
        "# importing necessary libraries\n",
        "\n",
        "import numpy as np\n",
        "#Used for handling arrays and mathematical operations we use it here to reshaping images, normalizing pixel values, working with labels\n",
        "\n",
        "import matplotlib.pyplot as plt\n",
        "#Used for plotting graphs and visualizing data. We use it to display images from MNIST, accuracy/loss curves, and predictions.\n",
        "\n",
        "import tensorflow as tf\n",
        "#The deep learning framework powering everything. Provides all the tools to build, train, and evaluate neural networks.\n",
        "\n",
        "from tensorflow.keras.datasets import mnist\n",
        "#MNIST is included in Keras datasets so no need to download manually. Provides training and testing data ready to use.\n",
        "\n",
        "from tensorflow.keras.utils import to_categorical\n",
        "#Converts labels (like 3) into one-hot encoded vectors ([0,0,0,1,0,0,0,0,0,0]). Required for categorical crossentropy loss.\n",
        "\n",
        "from tensorflow.keras.models import Sequential\n",
        "#Simplest way to build models: just stack layers one after another.\n",
        "\n",
        "from tensorflow.keras.layers import Conv2D, MaxPooling2D, Flatten, Dense, Dropout ## CNN layers\n",
        "# Conv2D: detect features (edges, shapes). MaxPooling2D: reduce size, keep important features. Flatten: convert 2D feature maps into 1D vector. Dense: fully connected layers for decision making. Dropout: randomly turn off neurons to prevent overfitting\n",
        "\n",
        "from tensorflow.keras import Input, Model\n",
        "#Functional API: for building custom/complex models We used it temporarily to extract and visualize layer outputs.\n",
        "\n",
        "from sklearn.metrics import confusion_matrix, ConfusionMatrixDisplay\n",
        "# Confusion matrix and visualization (to analyze mistakes)\n",
        "\n",
        "from sklearn.metrics import classification_report\n",
        "# Helps in evaluating model performance beyond accuracy.\n",
        "\n",
        "from tensorflow.keras.models import load_model\n",
        "#let us save the trained model"
      ],
      "metadata": {
        "id": "r5IZJBF7I1nj"
      },
      "execution_count": null,
      "outputs": []
    },
    {
      "cell_type": "code",
      "source": [
        " # Set a random seed for reproducibility\n",
        " seed = 42\n",
        " # Fix NumPy random operation\n",
        "np.random.seed(seed)\n",
        "\n",
        "# Fix TensorFlow random operations (e.g., weight initialization)\n",
        "tf.random.set_seed(seed)"
      ],
      "metadata": {
        "id": "b5MKaK2toDyG"
      },
      "execution_count": null,
      "outputs": []
    },
    {
      "cell_type": "code",
      "source": [
        "# load data\n",
        "(x_train, y_train), (x_test, y_test) = mnist.load_data()  #we are loading mnist data directly from TEnsorFlow library . Tensor flow has splitted the dataset in training and testing set\n",
        "\n",
        "# Print basic info\n",
        "print(\"x_train shape:\", x_train.shape) #x_train, y_train : it contains training images and labels\n",
        "print(\"y_train shape:\", y_train.shape)\n",
        "print(\"x_test shape :\", x_test.shape)    #x_test, y_test : it contains test images and labels\n",
        "print(\"y_test shape :\", y_test.shape)\n",
        "\n",
        "print(\"dtype:\", x_train.dtype, \" min:\", x_train.min(), \" max:\", x_train.max())  # it will tell us the data type of pixels which is uint8  min: 0  max: 255 means integers b/w 0 and 255 where 0 is pure black and 255 is white"
      ],
      "metadata": {
        "colab": {
          "base_uri": "https://localhost:8080/"
        },
        "id": "vm7gY9glLSot",
        "outputId": "30e69339-44bb-4558-ddab-7da242c1b27f"
      },
      "execution_count": null,
      "outputs": [
        {
          "output_type": "stream",
          "name": "stdout",
          "text": [
            "Downloading data from https://storage.googleapis.com/tensorflow/tf-keras-datasets/mnist.npz\n",
            "\u001b[1m11490434/11490434\u001b[0m \u001b[32m━━━━━━━━━━━━━━━━━━━━\u001b[0m\u001b[37m\u001b[0m \u001b[1m2s\u001b[0m 0us/step\n",
            "x_train shape: (60000, 28, 28)\n",
            "y_train shape: (60000,)\n",
            "x_test shape : (10000, 28, 28)\n",
            "y_test shape : (10000,)\n",
            "dtype: uint8  min: 0  max: 255\n"
          ]
        }
      ]
    },
    {
      "cell_type": "code",
      "source": [
        "#show the first 12 images with labels\n",
        "plt.figure(figsize=(10, 5)) #here we are creating a blank canvas for plotting , figsize=(10, 5) means that the figure will 10 inches wide and 5 inches tall so its look big for 12 images\n",
        "for i in range(12): #start a loop to display the first 12 images from the training set , i is a temporary variable here which will go from 0 to 11\n",
        "    plt.subplot(3, 4, i+1) #it will divide the canvas into a grid , 3 rows 4 columns = 12 slots  , i + 1 means from 1st loop iteration it will iterate till 12 slots and each slot will hold one image\n",
        "    plt.imshow(x_train[i], cmap='gray') # display the ith training image , cmap = gray tells matplotlib to show it in gray  scle not in color\n",
        "    plt.title(f\"Label: {y_train[i]}\") #adds a title above each image shwing its true lables(0-9)\n",
        "    plt.axis('off') #hide the x and y axes(ticks/numbers) so the images look clean\n",
        "plt.suptitle(\"First 12 samples from training set\", fontsize=14) # Adds one big title at the top of the whole figure, here First 12 samples.....\n",
        "plt.show()#finally displays everything we prepared"
      ],
      "metadata": {
        "colab": {
          "base_uri": "https://localhost:8080/",
          "height": 472
        },
        "id": "Kx9Q3-93XXdf",
        "outputId": "9f4dacb3-e266-418e-a85f-c02b6e6d8a34"
      },
      "execution_count": null,
      "outputs": [
        {
          "output_type": "display_data",
          "data": {
            "text/plain": [
              "<Figure size 1000x500 with 12 Axes>"
            ],
            "image/png": "[encoded data removed]"
          },
          "metadata": {}
        }
      ]
    },
    {
      "cell_type": "code",
      "source": [
        "#check frequency of each label\n",
        "unique, counts = np.unique(y_train, return_counts=True) # np.unique will find all distint lables in y_train and will return how many times each label appears\n",
        "for u, c in zip(unique, counts): #u = label, c = count , zip function will pairs each label with its count , like you can see in first result (Digit 0: 5923 samples) here 0 is the digit and 5923 its count mean how many times 0 appers in data\n",
        "    print(f\"Digit {u}: {c} samples\") # it will shows the readable line for each digit\n",
        "\n",
        "# quick bar plot\n",
        "plt.bar(unique, counts) #draws a bar chart: x = digits, y = counts.\n",
        "plt.xlabel('Digit') #these are lables\n",
        "plt.ylabel('Count')\n",
        "plt.title('Training set class distribution')\n",
        "plt.show()#displays the chart"
      ],
      "metadata": {
        "colab": {
          "base_uri": "https://localhost:8080/",
          "height": 646
        },
        "id": "0BW3_hhKX4el",
        "outputId": "b0ee1eec-f62c-4a9b-e5e8-eaf1467a1364"
      },
      "execution_count": null,
      "outputs": [
        {
          "output_type": "stream",
          "name": "stdout",
          "text": [
            "Digit 0: 5923 samples\n",
            "Digit 1: 6742 samples\n",
            "Digit 2: 5958 samples\n",
            "Digit 3: 6131 samples\n",
            "Digit 4: 5842 samples\n",
            "Digit 5: 5421 samples\n",
            "Digit 6: 5918 samples\n",
            "Digit 7: 6265 samples\n",
            "Digit 8: 5851 samples\n",
            "Digit 9: 5949 samples\n"
          ]
        },
        {
          "output_type": "display_data",
          "data": {
            "text/plain": [
              "<Figure size 640x480 with 1 Axes>"
            ],
            "image/png": "[encoded data removed]"
          },
          "metadata": {}
        }
      ]
    },
    {
      "cell_type": "markdown",
      "source": [
        "Why we need Preprocessing?\n",
        "\n",
        "- Before training, we must need to prepare the data so the CNN can understand it.\n",
        "\n",
        "- Raw MNIST images are 28×28 integers between 0–255.\n",
        "  We need to  reshape them to add a channel dimension so CNN layers can read them.\n",
        "\n",
        "- We need to normalize pixels to 0–1 so training is faster and more stable.\n",
        "\n",
        "- We need to convert labels into one-hot vectors so the model can output probabilities for 10 classes.\n",
        "\n",
        "Without these steps, the model won’t train properly or may give poor results."
      ],
      "metadata": {
        "id": "eFh9J3UJfBac"
      }
    },
    {
      "cell_type": "markdown",
      "source": [
        "# Step 2 : Data Preprocessing"
      ],
      "metadata": {
        "id": "XGmh7hFrfmIz"
      }
    },
    {
      "cell_type": "code",
      "source": [
        "#create explicit validation split\n",
        "'''\n",
        "VALIDATION SET is a small proportion of training data that we keeep aside , it helps us monitor performance during training without touching a test set,\n",
        "think of it like a mock test before final exam because test set will be used at very final evaluation\n",
        "'''\n",
        "val_size = 5000 # we decide to keep 5,000 images a side for validation , we choose it as a standard choice , usallly we took 10-12% data for validation here we chooose 5000 which is 8% of training data .That’s large enough to give a reliable estimate of performance\n",
        "\n",
        "# take last 5000 from training as validation images and labels\n",
        "x_val = x_train[-val_size:]\n",
        "y_val = y_train[-val_size:]\n",
        "\n",
        "# keep the reamaining 55,000 samples as the real training set\n",
        "x_train = x_train[:-val_size]\n",
        "y_train = y_train[:-val_size]\n",
        "\n",
        "# it will print the new dataset size\n",
        "print(\"After split:\")\n",
        "print(\"x_train:\", x_train.shape)\n",
        "print(\"x_val  :\", x_val.shape)\n",
        "print(\"x_test :\", x_test.shape)"
      ],
      "metadata": {
        "colab": {
          "base_uri": "https://localhost:8080/"
        },
        "id": "y03SAfbtX7Se",
        "outputId": "b74cf69d-a68a-4375-8a57-e5fc608d8187"
      },
      "execution_count": null,
      "outputs": [
        {
          "output_type": "stream",
          "name": "stdout",
          "text": [
            "After split:\n",
            "x_train: (55000, 28, 28)\n",
            "x_val  : (5000, 28, 28)\n",
            "x_test : (10000, 28, 28)\n"
          ]
        }
      ]
    },
    {
      "cell_type": "code",
      "source": [
        "# reshape to add channel dimension and convert dtype\n",
        "x_train = x_train.reshape(-1, 28, 28, 1).astype('float32') # we are adding channels because CNN expects it , our images are gray scale so channel is 1\n",
        "x_val   = x_val.reshape(-1, 28, 28, 1).astype('float32')  #.astype will convert the data type from  uint8 to float , because it is needed for neural network\n",
        "x_test  = x_test.reshape(-1, 28, 28, 1).astype('float32')\n",
        "\n",
        "print(\"x_train shape:\", x_train.shape, \" dtype:\", x_train.dtype)\n",
        "print(\"x_val shape:\", x_val.shape)\n",
        "print(\"x_test shape:\", x_test.shape)\n"
      ],
      "metadata": {
        "colab": {
          "base_uri": "https://localhost:8080/"
        },
        "id": "djxCUA1S2pRH",
        "outputId": "7aa487a5-e239-4355-a0f5-7ef62d456b2e"
      },
      "execution_count": null,
      "outputs": [
        {
          "output_type": "stream",
          "name": "stdout",
          "text": [
            "x_train shape: (55000, 28, 28, 1)  dtype: float32\n",
            "x_val shape: (5000, 28, 28, 1)\n",
            "x_test shape: (10000, 28, 28, 1)\n"
          ]
        }
      ]
    },
    {
      "cell_type": "code",
      "source": [
        "# normalize pixel values\n",
        "x_train /= 255.0  # we are dividing it by 255 so that it will convert pixels 0-255 to 0.0-1.0\n",
        "x_val   /= 255.0  #this helps faster convergence and avoids exploiding gradients\n",
        "x_test  /= 255.0\n",
        "\n",
        "print(\"After normalization:\")\n",
        "print(\"x_train min:\", x_train.min(), \" max:\", x_train.max())\n",
        "print(\"x_val min:\", x_val.min(), \" max:\", x_val.max())\n"
      ],
      "metadata": {
        "colab": {
          "base_uri": "https://localhost:8080/"
        },
        "id": "Egc9NZcu3koJ",
        "outputId": "981bff4f-c709-4ba3-867d-18d37ccd36d1"
      },
      "execution_count": null,
      "outputs": [
        {
          "output_type": "stream",
          "name": "stdout",
          "text": [
            "After normalization:\n",
            "x_train min: 0.0  max: 1.0\n",
            "x_val min: 0.0  max: 1.0\n"
          ]
        }
      ]
    },
    {
      "cell_type": "code",
      "source": [
        "# one-hot encode labels (for categorical crossentropy)\n",
        "num_classes = 10\n",
        "y_train_cat = to_categorical(y_train, num_classes)\n",
        "y_val_cat   = to_categorical(y_val, num_classes)\n",
        "y_test_cat  = to_categorical(y_test, num_classes)\n",
        "\n",
        "print(\"y_train original sample:\", y_train[0])\n",
        "print(\"y_train one-hot sample:\", y_train_cat[0])\n",
        "print(\"y_train_cat shape:\", y_train_cat.shape)"
      ],
      "metadata": {
        "colab": {
          "base_uri": "https://localhost:8080/"
        },
        "id": "Bwyr5kAN4WIe",
        "outputId": "567dd3e0-129d-43e4-b396-bf0e6ac1fefc"
      },
      "execution_count": null,
      "outputs": [
        {
          "output_type": "stream",
          "name": "stdout",
          "text": [
            "y_train original sample: 5\n",
            "y_train one-hot sample: [0. 0. 0. 0. 0. 1. 0. 0. 0. 0.]\n",
            "y_train_cat shape: (55000, 10)\n"
          ]
        }
      ]
    },
    {
      "cell_type": "code",
      "source": [
        "#show one sample and its one-hot label\n",
        "idx = 7  # we are displaying one image from training set , here we picked sample at index 7\n",
        "plt.imshow(x_train[idx].reshape(28,28), cmap='gray') #Display that image again .reshape(28,28) will remove the extra channel dimension (since Matplotlib expects 2D for grayscale).\n",
        "plt.title(f\"Label: {np.argmax(y_train_cat[idx])}\") #y_train_cat[idx] is one hot encoder for this image , np.argmax finds the digit label in the vector sp the title shows actual digit like label 3\n",
        "plt.axis('off') # hides the axes , numbers to show the clean image\n",
        "plt.show()\n",
        "\n",
        "print(\"One-hot vector for this sample:\", y_train_cat[idx]) #prints the full one hot encoder for the same image"
      ],
      "metadata": {
        "colab": {
          "base_uri": "https://localhost:8080/"
        },
        "id": "hbVqI0XCYBdN",
        "outputId": "58dc332b-1c64-4468-d4a0-04ce3acd7b94"
      },
      "execution_count": null,
      "outputs": [
        {
          "output_type": "display_data",
          "data": {
            "text/plain": [
              "<Figure size 640x480 with 1 Axes>"
            ],
            "image/png": "[encoded data removed]"
          },
          "metadata": {}
        },
        {
          "output_type": "stream",
          "name": "stdout",
          "text": [
            "One-hot vector for this sample: [0. 0. 0. 1. 0. 0. 0. 0. 0. 0.]\n"
          ]
        }
      ]
    },
    {
      "cell_type": "markdown",
      "source": [
        "# Summary of Step 1 and 2\n",
        "\n",
        "###  Exploration\n",
        "\n",
        "* **Shapes checked** → Confirmed 60k train, 10k test images, each 28×28.\n",
        "* **Pixel range** → Values were integers \\[0–255], so normalization is needed.\n",
        "* **Visualization** → Looked at first 12 samples, saw variability in handwriting.\n",
        "* **Class balance** → Plotted frequency of digits → dataset is balanced.\n",
        "\n",
        "###  Preprocessing\n",
        "\n",
        "1. **Validation split** → set aside 5,000 images for validation (train = 55k, val = 5k, test = 10k).\n",
        "2. **Reshape** → from `(28,28)` → `(28,28,1)` to add channel dimension.\n",
        "3. **Type cast** → from `uint8` to `float32`, required by TensorFlow.\n",
        "4. **Normalize** → divide pixels by 255 → values in \\[0,1], helps faster training.\n",
        "5. **One-hot encode labels** → convert labels (e.g., `3`) into 10-length vectors (`[0,0,0,1,0,0,0,0,0,0]`).\n",
        "6. **Sanity check** → plotted one sample and its one-hot label to confirm correctness.\n",
        "\n",
        "\n",
        "\n",
        " **Where we are now:**\n",
        "\n",
        "* Dataset is **clean, shaped, and ready** for CNN input.\n",
        "* We’ve ensured **no preprocessing mistakes** by checking outputs at each step."
      ],
      "metadata": {
        "id": "tsbt14XO650y"
      }
    },
    {
      "cell_type": "markdown",
      "source": [
        "# Step 3 : Model Architecture"
      ],
      "metadata": {
        "id": "nsk0-QoC7DMG"
      }
    },
    {
      "cell_type": "code",
      "source": [
        "# Build the CNN model step by step\n",
        "model = Sequential([\n",
        "\n",
        "    #  Convolutional layer\n",
        "    Conv2D(32, (3,3), activation='relu', input_shape=(28,28,1)),\n",
        "\n",
        "    #  Pooling layer\n",
        "    MaxPooling2D((2,2)),\n",
        "\n",
        "    #  Another convolutional layer (deeper features)\n",
        "    Conv2D(64, (3,3), activation='relu'),\n",
        "\n",
        "    #  Another pooling layer\n",
        "    MaxPooling2D((2,2)),\n",
        "\n",
        "    #  Flatten → from 2D feature maps to 1D vector\n",
        "    Flatten(),\n",
        "\n",
        "    #  Fully connected layer (dense layer)\n",
        "    Dense(128, activation='relu'),\n",
        "\n",
        "    # Dropout → randomly turn off  50% neurons during training\n",
        "    Dropout(0.5),\n",
        "\n",
        "    # Output layer 1 neurons for each digit we have 0-9 digits so 10 neurons\n",
        "    Dense(10, activation='softmax')\n",
        "])\n",
        "\n",
        "# Summary\n",
        "model.summary()\n"
      ],
      "metadata": {
        "colab": {
          "base_uri": "https://localhost:8080/"
        },
        "id": "ZCg3rQG57OM2",
        "outputId": "d94d1d22-f8cc-4310-e638-5046640ff692"
      },
      "execution_count": null,
      "outputs": [
        {
          "output_type": "stream",
          "name": "stderr",
          "text": [
            "/usr/local/lib/python3.12/dist-packages/keras/src/layers/convolutional/base_conv.py:113: UserWarning: Do not pass an `input_shape`/`input_dim` argument to a layer. When using Sequential models, prefer using an `Input(shape)` object as the first layer in the model instead.\n",
            "  super().__init__(activity_regularizer=activity_regularizer, **kwargs)\n"
          ]
        },
        {
          "output_type": "display_data",
          "data": {
            "text/plain": [
              "\u001b[1mModel: \"sequential\"\u001b[0m\n"
            ],
            "text/html": [
              "<pre style=\"white-space:pre;overflow-x:auto;line-height:normal;font-family:Menlo,'DejaVu Sans Mono',consolas,'Courier New',monospace\"><span style=\"font-weight: bold\">Model: \"sequential\"</span>\n",
              "</pre>\n"
            ]
          },
          "metadata": {}
        },
        {
          "output_type": "display_data",
          "data": {
            "text/plain": [
              "┏━━━━━━━━━━━━━━━━━━━━━━━━━━━━━━━━━┳━━━━━━━━━━━━━━━━━━━━━━━━┳━━━━━━━━━━━━━━━┓\n",
              "┃\u001b[1m \u001b[0m\u001b[1mLayer (type)                   \u001b[0m\u001b[1m \u001b[0m┃\u001b[1m \u001b[0m\u001b[1mOutput Shape          \u001b[0m\u001b[1m \u001b[0m┃\u001b[1m \u001b[0m\u001b[1m      Param #\u001b[0m\u001b[1m \u001b[0m┃\n",
              "┡━━━━━━━━━━━━━━━━━━━━━━━━━━━━━━━━━╇━━━━━━━━━━━━━━━━━━━━━━━━╇━━━━━━━━━━━━━━━┩\n",
              "│ conv2d (\u001b[38;5;33mConv2D\u001b[0m)                 │ (\u001b[38;5;45mNone\u001b[0m, \u001b[38;5;34m26\u001b[0m, \u001b[38;5;34m26\u001b[0m, \u001b[38;5;34m32\u001b[0m)     │           \u001b[38;5;34m320\u001b[0m │\n",
              "├─────────────────────────────────┼────────────────────────┼───────────────┤\n",
              "│ max_pooling2d (\u001b[38;5;33mMaxPooling2D\u001b[0m)    │ (\u001b[38;5;45mNone\u001b[0m, \u001b[38;5;34m13\u001b[0m, \u001b[38;5;34m13\u001b[0m, \u001b[38;5;34m32\u001b[0m)     │             \u001b[38;5;34m0\u001b[0m │\n",
              "├─────────────────────────────────┼────────────────────────┼───────────────┤\n",
              "│ conv2d_1 (\u001b[38;5;33mConv2D\u001b[0m)               │ (\u001b[38;5;45mNone\u001b[0m, \u001b[38;5;34m11\u001b[0m, \u001b[38;5;34m11\u001b[0m, \u001b[38;5;34m64\u001b[0m)     │        \u001b[38;5;34m18,496\u001b[0m │\n",
              "├─────────────────────────────────┼────────────────────────┼───────────────┤\n",
              "│ max_pooling2d_1 (\u001b[38;5;33mMaxPooling2D\u001b[0m)  │ (\u001b[38;5;45mNone\u001b[0m, \u001b[38;5;34m5\u001b[0m, \u001b[38;5;34m5\u001b[0m, \u001b[38;5;34m64\u001b[0m)       │             \u001b[38;5;34m0\u001b[0m │\n",
              "├─────────────────────────────────┼────────────────────────┼───────────────┤\n",
              "│ flatten (\u001b[38;5;33mFlatten\u001b[0m)               │ (\u001b[38;5;45mNone\u001b[0m, \u001b[38;5;34m1600\u001b[0m)           │             \u001b[38;5;34m0\u001b[0m │\n",
              "├─────────────────────────────────┼────────────────────────┼───────────────┤\n",
              "│ dense (\u001b[38;5;33mDense\u001b[0m)                   │ (\u001b[38;5;45mNone\u001b[0m, \u001b[38;5;34m128\u001b[0m)            │       \u001b[38;5;34m204,928\u001b[0m │\n",
              "├─────────────────────────────────┼────────────────────────┼───────────────┤\n",
              "│ dropout (\u001b[38;5;33mDropout\u001b[0m)               │ (\u001b[38;5;45mNone\u001b[0m, \u001b[38;5;34m128\u001b[0m)            │             \u001b[38;5;34m0\u001b[0m │\n",
              "├─────────────────────────────────┼────────────────────────┼───────────────┤\n",
              "│ dense_1 (\u001b[38;5;33mDense\u001b[0m)                 │ (\u001b[38;5;45mNone\u001b[0m, \u001b[38;5;34m10\u001b[0m)             │         \u001b[38;5;34m1,290\u001b[0m │\n",
              "└─────────────────────────────────┴────────────────────────┴───────────────┘\n"
            ],
            "text/html": [
              "<pre style=\"white-space:pre;overflow-x:auto;line-height:normal;font-family:Menlo,'DejaVu Sans Mono',consolas,'Courier New',monospace\">┏━━━━━━━━━━━━━━━━━━━━━━━━━━━━━━━━━┳━━━━━━━━━━━━━━━━━━━━━━━━┳━━━━━━━━━━━━━━━┓\n",
              "┃<span style=\"font-weight: bold\"> Layer (type)                    </span>┃<span style=\"font-weight: bold\"> Output Shape           </span>┃<span style=\"font-weight: bold\">       Param # </span>┃\n",
              "┡━━━━━━━━━━━━━━━━━━━━━━━━━━━━━━━━━╇━━━━━━━━━━━━━━━━━━━━━━━━╇━━━━━━━━━━━━━━━┩\n",
              "│ conv2d (<span style=\"color: #0087ff; text-decoration-color: #0087ff\">Conv2D</span>)                 │ (<span style=\"color: #00d7ff; text-decoration-color: #00d7ff\">None</span>, <span style=\"color: #00af00; text-decoration-color: #00af00\">26</span>, <span style=\"color: #00af00; text-decoration-color: #00af00\">26</span>, <span style=\"color: #00af00; text-decoration-color: #00af00\">32</span>)     │           <span style=\"color: #00af00; text-decoration-color: #00af00\">320</span> │\n",
              "├─────────────────────────────────┼────────────────────────┼───────────────┤\n",
              "│ max_pooling2d (<span style=\"color: #0087ff; text-decoration-color: #0087ff\">MaxPooling2D</span>)    │ (<span style=\"color: #00d7ff; text-decoration-color: #00d7ff\">None</span>, <span style=\"color: #00af00; text-decoration-color: #00af00\">13</span>, <span style=\"color: #00af00; text-decoration-color: #00af00\">13</span>, <span style=\"color: #00af00; text-decoration-color: #00af00\">32</span>)     │             <span style=\"color: #00af00; text-decoration-color: #00af00\">0</span> │\n",
              "├─────────────────────────────────┼────────────────────────┼───────────────┤\n",
              "│ conv2d_1 (<span style=\"color: #0087ff; text-decoration-color: #0087ff\">Conv2D</span>)               │ (<span style=\"color: #00d7ff; text-decoration-color: #00d7ff\">None</span>, <span style=\"color: #00af00; text-decoration-color: #00af00\">11</span>, <span style=\"color: #00af00; text-decoration-color: #00af00\">11</span>, <span style=\"color: #00af00; text-decoration-color: #00af00\">64</span>)     │        <span style=\"color: #00af00; text-decoration-color: #00af00\">18,496</span> │\n",
              "├─────────────────────────────────┼────────────────────────┼───────────────┤\n",
              "│ max_pooling2d_1 (<span style=\"color: #0087ff; text-decoration-color: #0087ff\">MaxPooling2D</span>)  │ (<span style=\"color: #00d7ff; text-decoration-color: #00d7ff\">None</span>, <span style=\"color: #00af00; text-decoration-color: #00af00\">5</span>, <span style=\"color: #00af00; text-decoration-color: #00af00\">5</span>, <span style=\"color: #00af00; text-decoration-color: #00af00\">64</span>)       │             <span style=\"color: #00af00; text-decoration-color: #00af00\">0</span> │\n",
              "├─────────────────────────────────┼────────────────────────┼───────────────┤\n",
              "│ flatten (<span style=\"color: #0087ff; text-decoration-color: #0087ff\">Flatten</span>)               │ (<span style=\"color: #00d7ff; text-decoration-color: #00d7ff\">None</span>, <span style=\"color: #00af00; text-decoration-color: #00af00\">1600</span>)           │             <span style=\"color: #00af00; text-decoration-color: #00af00\">0</span> │\n",
              "├─────────────────────────────────┼────────────────────────┼───────────────┤\n",
              "│ dense (<span style=\"color: #0087ff; text-decoration-color: #0087ff\">Dense</span>)                   │ (<span style=\"color: #00d7ff; text-decoration-color: #00d7ff\">None</span>, <span style=\"color: #00af00; text-decoration-color: #00af00\">128</span>)            │       <span style=\"color: #00af00; text-decoration-color: #00af00\">204,928</span> │\n",
              "├─────────────────────────────────┼────────────────────────┼───────────────┤\n",
              "│ dropout (<span style=\"color: #0087ff; text-decoration-color: #0087ff\">Dropout</span>)               │ (<span style=\"color: #00d7ff; text-decoration-color: #00d7ff\">None</span>, <span style=\"color: #00af00; text-decoration-color: #00af00\">128</span>)            │             <span style=\"color: #00af00; text-decoration-color: #00af00\">0</span> │\n",
              "├─────────────────────────────────┼────────────────────────┼───────────────┤\n",
              "│ dense_1 (<span style=\"color: #0087ff; text-decoration-color: #0087ff\">Dense</span>)                 │ (<span style=\"color: #00d7ff; text-decoration-color: #00d7ff\">None</span>, <span style=\"color: #00af00; text-decoration-color: #00af00\">10</span>)             │         <span style=\"color: #00af00; text-decoration-color: #00af00\">1,290</span> │\n",
              "└─────────────────────────────────┴────────────────────────┴───────────────┘\n",
              "</pre>\n"
            ]
          },
          "metadata": {}
        },
        {
          "output_type": "display_data",
          "data": {
            "text/plain": [
              "\u001b[1m Total params: \u001b[0m\u001b[38;5;34m225,034\u001b[0m (879.04 KB)\n"
            ],
            "text/html": [
              "<pre style=\"white-space:pre;overflow-x:auto;line-height:normal;font-family:Menlo,'DejaVu Sans Mono',consolas,'Courier New',monospace\"><span style=\"font-weight: bold\"> Total params: </span><span style=\"color: #00af00; text-decoration-color: #00af00\">225,034</span> (879.04 KB)\n",
              "</pre>\n"
            ]
          },
          "metadata": {}
        },
        {
          "output_type": "display_data",
          "data": {
            "text/plain": [
              "\u001b[1m Trainable params: \u001b[0m\u001b[38;5;34m225,034\u001b[0m (879.04 KB)\n"
            ],
            "text/html": [
              "<pre style=\"white-space:pre;overflow-x:auto;line-height:normal;font-family:Menlo,'DejaVu Sans Mono',consolas,'Courier New',monospace\"><span style=\"font-weight: bold\"> Trainable params: </span><span style=\"color: #00af00; text-decoration-color: #00af00\">225,034</span> (879.04 KB)\n",
              "</pre>\n"
            ]
          },
          "metadata": {}
        },
        {
          "output_type": "display_data",
          "data": {
            "text/plain": [
              "\u001b[1m Non-trainable params: \u001b[0m\u001b[38;5;34m0\u001b[0m (0.00 B)\n"
            ],
            "text/html": [
              "<pre style=\"white-space:pre;overflow-x:auto;line-height:normal;font-family:Menlo,'DejaVu Sans Mono',consolas,'Courier New',monospace\"><span style=\"font-weight: bold\"> Non-trainable params: </span><span style=\"color: #00af00; text-decoration-color: #00af00\">0</span> (0.00 B)\n",
              "</pre>\n"
            ]
          },
          "metadata": {}
        }
      ]
    },
    {
      "cell_type": "markdown",
      "source": [
        "# Understanding the each CNN layer Step by step"
      ],
      "metadata": {
        "id": "Dme4fn6ImsQB"
      }
    },
    {
      "cell_type": "code",
      "source": [
        "# pick one sample\n",
        "print(\"x_train shape):\", x_train.shape)\n",
        "sample = x_train[:1]   # keep batch size(no. of training samples) 1 to easily inspect activations\n",
        "''''\n",
        "in output sample shape is (1, 28, 28, 1) in which 1 is teh batch size, 28 is the height of the pixel, another 28 is the width of the pixel and the last 1 is the no of color (channel)\n",
        "since this image is gray thatswhy its channel is 1 if its RGB its channel will 3\n",
        "'''\n",
        "print(\"sample shape:\", sample.shape)\n",
        "plt.imshow(sample[0].reshape(28,28), cmap='gray'); plt.title('Raw sample (preprocessed)'); plt.axis('off'); plt.show()"
      ],
      "metadata": {
        "colab": {
          "base_uri": "https://localhost:8080/"
        },
        "id": "OG1YnkmxwtOv",
        "outputId": "6737dd80-dcb3-44aa-d7fd-c16028c20e78"
      },
      "execution_count": null,
      "outputs": [
        {
          "output_type": "stream",
          "name": "stdout",
          "text": [
            "x_train shape): (55000, 28, 28, 1)\n",
            "sample shape: (1, 28, 28, 1)\n"
          ]
        },
        {
          "output_type": "display_data",
          "data": {
            "text/plain": [
              "<Figure size 640x480 with 1 Axes>"
            ],
            "image/png": "[encoded data removed]"
          },
          "metadata": {}
        }
      ]
    },
    {
      "cell_type": "code",
      "source": [
        "# single Conv2D layer (This is the CNN’s first step of “seeing” patterns.)\n",
        "\n",
        "m1 = Sequential([ Conv2D(32, (3,3), activation='relu', input_shape=(28,28,1)) ])\n",
        "m1.summary() # m1 is a small model with just 1 Conv2d layer\n",
        "\n",
        "act1 = m1.predict(sample)   # runs a forward pass , gives you the activations (outputs) after Conv1. , act1 is just a NumPy array containing the results of the first conv layer\n",
        "print(\"Conv1 activation shape:\", act1.shape)   # padding='valid'(default) reduces size\n",
        "\n",
        "'''\n",
        "in results, none is a batch size , any batch size can go here — when you actually pass 1 sample, it becomes 1 at runtime.\n",
        "\n",
        "Padding matters. Use padding='same' in Conv2D if you prefer spatial sizes to stay round (28→14→7). Default valid reduces them more (28→26→13→11→5).\n",
        "\n",
        "Output size = Input size - Filter size + 1\n",
        "            = 28 - 3 + 1\n",
        "            = 26\n",
        "\n",
        "  (None, 26, 26, 32) , 32 means we used 32 filters, so the model produced 32 feature maps. 32 different filtered views of the same 28×28 image\n",
        "'''\n",
        "# Why Parameters = 320?\n",
        "\n",
        "'''\n",
        "\n",
        "Each filter has weights + bias. Let’s calculate:\n",
        "\n",
        "Filter size = 3×3\n",
        "\n",
        "Input channels = 1 (grayscale)\n",
        "\n",
        "So weights per filter = 3×3×1 = 9\n",
        "\n",
        "Each filter also has 1 bias → total = 9+1 = 10 parameters per filter.\n",
        "\n",
        "Number of filters = 32\n",
        "\n",
        "Total parameters = 10 × 32 = 320\n",
        "\n",
        "'''\n",
        "\n",
        "# visualize first 6 feature maps\n",
        "fig, axs = plt.subplots(1,6, figsize=(15,3))\n",
        "for i in range(6):\n",
        "    axs[i].imshow(act1[0,:,:,i], cmap='viridis')\n",
        "    axs[i].axis('off')\n",
        "plt.suptitle('Conv1 feature maps (first 6 filters)')\n",
        "plt.show()"
      ],
      "metadata": {
        "colab": {
          "base_uri": "https://localhost:8080/",
          "height": 421
        },
        "id": "u4MaqRhgxOxz",
        "outputId": "7cceed0a-8d9d-4436-8bf4-26bb5de07795"
      },
      "execution_count": null,
      "outputs": [
        {
          "output_type": "display_data",
          "data": {
            "text/plain": [
              "\u001b[1mModel: \"sequential_1\"\u001b[0m\n"
            ],
            "text/html": [
              "<pre style=\"white-space:pre;overflow-x:auto;line-height:normal;font-family:Menlo,'DejaVu Sans Mono',consolas,'Courier New',monospace\"><span style=\"font-weight: bold\">Model: \"sequential_1\"</span>\n",
              "</pre>\n"
            ]
          },
          "metadata": {}
        },
        {
          "output_type": "display_data",
          "data": {
            "text/plain": [
              "┏━━━━━━━━━━━━━━━━━━━━━━━━━━━━━━━━━┳━━━━━━━━━━━━━━━━━━━━━━━━┳━━━━━━━━━━━━━━━┓\n",
              "┃\u001b[1m \u001b[0m\u001b[1mLayer (type)                   \u001b[0m\u001b[1m \u001b[0m┃\u001b[1m \u001b[0m\u001b[1mOutput Shape          \u001b[0m\u001b[1m \u001b[0m┃\u001b[1m \u001b[0m\u001b[1m      Param #\u001b[0m\u001b[1m \u001b[0m┃\n",
              "┡━━━━━━━━━━━━━━━━━━━━━━━━━━━━━━━━━╇━━━━━━━━━━━━━━━━━━━━━━━━╇━━━━━━━━━━━━━━━┩\n",
              "│ conv2d_2 (\u001b[38;5;33mConv2D\u001b[0m)               │ (\u001b[38;5;45mNone\u001b[0m, \u001b[38;5;34m26\u001b[0m, \u001b[38;5;34m26\u001b[0m, \u001b[38;5;34m32\u001b[0m)     │           \u001b[38;5;34m320\u001b[0m │\n",
              "└─────────────────────────────────┴────────────────────────┴───────────────┘\n"
            ],
            "text/html": [
              "<pre style=\"white-space:pre;overflow-x:auto;line-height:normal;font-family:Menlo,'DejaVu Sans Mono',consolas,'Courier New',monospace\">┏━━━━━━━━━━━━━━━━━━━━━━━━━━━━━━━━━┳━━━━━━━━━━━━━━━━━━━━━━━━┳━━━━━━━━━━━━━━━┓\n",
              "┃<span style=\"font-weight: bold\"> Layer (type)                    </span>┃<span style=\"font-weight: bold\"> Output Shape           </span>┃<span style=\"font-weight: bold\">       Param # </span>┃\n",
              "┡━━━━━━━━━━━━━━━━━━━━━━━━━━━━━━━━━╇━━━━━━━━━━━━━━━━━━━━━━━━╇━━━━━━━━━━━━━━━┩\n",
              "│ conv2d_2 (<span style=\"color: #0087ff; text-decoration-color: #0087ff\">Conv2D</span>)               │ (<span style=\"color: #00d7ff; text-decoration-color: #00d7ff\">None</span>, <span style=\"color: #00af00; text-decoration-color: #00af00\">26</span>, <span style=\"color: #00af00; text-decoration-color: #00af00\">26</span>, <span style=\"color: #00af00; text-decoration-color: #00af00\">32</span>)     │           <span style=\"color: #00af00; text-decoration-color: #00af00\">320</span> │\n",
              "└─────────────────────────────────┴────────────────────────┴───────────────┘\n",
              "</pre>\n"
            ]
          },
          "metadata": {}
        },
        {
          "output_type": "display_data",
          "data": {
            "text/plain": [
              "\u001b[1m Total params: \u001b[0m\u001b[38;5;34m320\u001b[0m (1.25 KB)\n"
            ],
            "text/html": [
              "<pre style=\"white-space:pre;overflow-x:auto;line-height:normal;font-family:Menlo,'DejaVu Sans Mono',consolas,'Courier New',monospace\"><span style=\"font-weight: bold\"> Total params: </span><span style=\"color: #00af00; text-decoration-color: #00af00\">320</span> (1.25 KB)\n",
              "</pre>\n"
            ]
          },
          "metadata": {}
        },
        {
          "output_type": "display_data",
          "data": {
            "text/plain": [
              "\u001b[1m Trainable params: \u001b[0m\u001b[38;5;34m320\u001b[0m (1.25 KB)\n"
            ],
            "text/html": [
              "<pre style=\"white-space:pre;overflow-x:auto;line-height:normal;font-family:Menlo,'DejaVu Sans Mono',consolas,'Courier New',monospace\"><span style=\"font-weight: bold\"> Trainable params: </span><span style=\"color: #00af00; text-decoration-color: #00af00\">320</span> (1.25 KB)\n",
              "</pre>\n"
            ]
          },
          "metadata": {}
        },
        {
          "output_type": "display_data",
          "data": {
            "text/plain": [
              "\u001b[1m Non-trainable params: \u001b[0m\u001b[38;5;34m0\u001b[0m (0.00 B)\n"
            ],
            "text/html": [
              "<pre style=\"white-space:pre;overflow-x:auto;line-height:normal;font-family:Menlo,'DejaVu Sans Mono',consolas,'Courier New',monospace\"><span style=\"font-weight: bold\"> Non-trainable params: </span><span style=\"color: #00af00; text-decoration-color: #00af00\">0</span> (0.00 B)\n",
              "</pre>\n"
            ]
          },
          "metadata": {}
        },
        {
          "output_type": "stream",
          "name": "stdout",
          "text": [
            "\u001b[1m1/1\u001b[0m \u001b[32m━━━━━━━━━━━━━━━━━━━━\u001b[0m\u001b[37m\u001b[0m \u001b[1m1s\u001b[0m 1s/step\n",
            "Conv1 activation shape: (1, 26, 26, 32)\n"
          ]
        },
        {
          "output_type": "display_data",
          "data": {
            "text/plain": [
              "<Figure size 1500x300 with 6 Axes>"
            ],
            "image/png": "[encoded data removed]"
          },
          "metadata": {}
        }
      ]
    },
    {
      "cell_type": "code",
      "source": [
        "# add MaxPooling (pooling halves spatial dimensions (13×13 from 26×26))\n",
        "m2 = Sequential([\n",
        "    Conv2D(32, (3,3), activation='relu', input_shape=(28,28,1)),\n",
        "    MaxPooling2D((2,2)) #Pooling “zooms out” and keeps the strongest signals only\n",
        "])\n",
        "\n",
        "'''\n",
        "What is the 2×2 window?\n",
        "\n",
        "Pooling means “downsampling.”\n",
        "\n",
        "A 2×2 window slides across the feature map.\n",
        "\n",
        "From those 4 numbers in the window, it keeps only the maximum.\n",
        "\n",
        "Example:\n",
        "[2, 5]\n",
        "[7, 1]\n",
        "\n",
        "max = 7 → output cell = 7.\n",
        "\n",
        "'''\n",
        "m2.summary()\n",
        "\n",
        "act2 = m2.predict(sample)\n",
        "print(\"After Conv1 + Pool shape:\", act2.shape)   # e.g. (1,13,13,32) if valid conv\n",
        "fig, axs = plt.subplots(1,6, figsize=(15,3))\n",
        "for i in range(6):\n",
        "    axs[i].imshow(act2[0,:,:,i], cmap='viridis')\n",
        "    axs[i].axis('off')\n",
        "plt.suptitle('After Conv1 + MaxPool (first 6 maps)')\n",
        "plt.show()"
      ],
      "metadata": {
        "colab": {
          "base_uri": "https://localhost:8080/",
          "height": 453
        },
        "id": "KOhF9yPYxRwc",
        "outputId": "b528a335-8e39-49aa-ee95-5251d8eeea11"
      },
      "execution_count": null,
      "outputs": [
        {
          "output_type": "display_data",
          "data": {
            "text/plain": [
              "\u001b[1mModel: \"sequential_2\"\u001b[0m\n"
            ],
            "text/html": [
              "<pre style=\"white-space:pre;overflow-x:auto;line-height:normal;font-family:Menlo,'DejaVu Sans Mono',consolas,'Courier New',monospace\"><span style=\"font-weight: bold\">Model: \"sequential_2\"</span>\n",
              "</pre>\n"
            ]
          },
          "metadata": {}
        },
        {
          "output_type": "display_data",
          "data": {
            "text/plain": [
              "┏━━━━━━━━━━━━━━━━━━━━━━━━━━━━━━━━━┳━━━━━━━━━━━━━━━━━━━━━━━━┳━━━━━━━━━━━━━━━┓\n",
              "┃\u001b[1m \u001b[0m\u001b[1mLayer (type)                   \u001b[0m\u001b[1m \u001b[0m┃\u001b[1m \u001b[0m\u001b[1mOutput Shape          \u001b[0m\u001b[1m \u001b[0m┃\u001b[1m \u001b[0m\u001b[1m      Param #\u001b[0m\u001b[1m \u001b[0m┃\n",
              "┡━━━━━━━━━━━━━━━━━━━━━━━━━━━━━━━━━╇━━━━━━━━━━━━━━━━━━━━━━━━╇━━━━━━━━━━━━━━━┩\n",
              "│ conv2d_3 (\u001b[38;5;33mConv2D\u001b[0m)               │ (\u001b[38;5;45mNone\u001b[0m, \u001b[38;5;34m26\u001b[0m, \u001b[38;5;34m26\u001b[0m, \u001b[38;5;34m32\u001b[0m)     │           \u001b[38;5;34m320\u001b[0m │\n",
              "├─────────────────────────────────┼────────────────────────┼───────────────┤\n",
              "│ max_pooling2d_2 (\u001b[38;5;33mMaxPooling2D\u001b[0m)  │ (\u001b[38;5;45mNone\u001b[0m, \u001b[38;5;34m13\u001b[0m, \u001b[38;5;34m13\u001b[0m, \u001b[38;5;34m32\u001b[0m)     │             \u001b[38;5;34m0\u001b[0m │\n",
              "└─────────────────────────────────┴────────────────────────┴───────────────┘\n"
            ],
            "text/html": [
              "<pre style=\"white-space:pre;overflow-x:auto;line-height:normal;font-family:Menlo,'DejaVu Sans Mono',consolas,'Courier New',monospace\">┏━━━━━━━━━━━━━━━━━━━━━━━━━━━━━━━━━┳━━━━━━━━━━━━━━━━━━━━━━━━┳━━━━━━━━━━━━━━━┓\n",
              "┃<span style=\"font-weight: bold\"> Layer (type)                    </span>┃<span style=\"font-weight: bold\"> Output Shape           </span>┃<span style=\"font-weight: bold\">       Param # </span>┃\n",
              "┡━━━━━━━━━━━━━━━━━━━━━━━━━━━━━━━━━╇━━━━━━━━━━━━━━━━━━━━━━━━╇━━━━━━━━━━━━━━━┩\n",
              "│ conv2d_3 (<span style=\"color: #0087ff; text-decoration-color: #0087ff\">Conv2D</span>)               │ (<span style=\"color: #00d7ff; text-decoration-color: #00d7ff\">None</span>, <span style=\"color: #00af00; text-decoration-color: #00af00\">26</span>, <span style=\"color: #00af00; text-decoration-color: #00af00\">26</span>, <span style=\"color: #00af00; text-decoration-color: #00af00\">32</span>)     │           <span style=\"color: #00af00; text-decoration-color: #00af00\">320</span> │\n",
              "├─────────────────────────────────┼────────────────────────┼───────────────┤\n",
              "│ max_pooling2d_2 (<span style=\"color: #0087ff; text-decoration-color: #0087ff\">MaxPooling2D</span>)  │ (<span style=\"color: #00d7ff; text-decoration-color: #00d7ff\">None</span>, <span style=\"color: #00af00; text-decoration-color: #00af00\">13</span>, <span style=\"color: #00af00; text-decoration-color: #00af00\">13</span>, <span style=\"color: #00af00; text-decoration-color: #00af00\">32</span>)     │             <span style=\"color: #00af00; text-decoration-color: #00af00\">0</span> │\n",
              "└─────────────────────────────────┴────────────────────────┴───────────────┘\n",
              "</pre>\n"
            ]
          },
          "metadata": {}
        },
        {
          "output_type": "display_data",
          "data": {
            "text/plain": [
              "\u001b[1m Total params: \u001b[0m\u001b[38;5;34m320\u001b[0m (1.25 KB)\n"
            ],
            "text/html": [
              "<pre style=\"white-space:pre;overflow-x:auto;line-height:normal;font-family:Menlo,'DejaVu Sans Mono',consolas,'Courier New',monospace\"><span style=\"font-weight: bold\"> Total params: </span><span style=\"color: #00af00; text-decoration-color: #00af00\">320</span> (1.25 KB)\n",
              "</pre>\n"
            ]
          },
          "metadata": {}
        },
        {
          "output_type": "display_data",
          "data": {
            "text/plain": [
              "\u001b[1m Trainable params: \u001b[0m\u001b[38;5;34m320\u001b[0m (1.25 KB)\n"
            ],
            "text/html": [
              "<pre style=\"white-space:pre;overflow-x:auto;line-height:normal;font-family:Menlo,'DejaVu Sans Mono',consolas,'Courier New',monospace\"><span style=\"font-weight: bold\"> Trainable params: </span><span style=\"color: #00af00; text-decoration-color: #00af00\">320</span> (1.25 KB)\n",
              "</pre>\n"
            ]
          },
          "metadata": {}
        },
        {
          "output_type": "display_data",
          "data": {
            "text/plain": [
              "\u001b[1m Non-trainable params: \u001b[0m\u001b[38;5;34m0\u001b[0m (0.00 B)\n"
            ],
            "text/html": [
              "<pre style=\"white-space:pre;overflow-x:auto;line-height:normal;font-family:Menlo,'DejaVu Sans Mono',consolas,'Courier New',monospace\"><span style=\"font-weight: bold\"> Non-trainable params: </span><span style=\"color: #00af00; text-decoration-color: #00af00\">0</span> (0.00 B)\n",
              "</pre>\n"
            ]
          },
          "metadata": {}
        },
        {
          "output_type": "stream",
          "name": "stdout",
          "text": [
            "\u001b[1m1/1\u001b[0m \u001b[32m━━━━━━━━━━━━━━━━━━━━\u001b[0m\u001b[37m\u001b[0m \u001b[1m0s\u001b[0m 193ms/step\n",
            "After Conv1 + Pool shape: (1, 13, 13, 32)\n"
          ]
        },
        {
          "output_type": "display_data",
          "data": {
            "text/plain": [
              "<Figure size 1500x300 with 6 Axes>"
            ],
            "image/png": "[encoded data removed]"
          },
          "metadata": {}
        }
      ]
    },
    {
      "cell_type": "code",
      "source": [
        "# Conv -> Pool -> Conv (second conv) . second conv uses 64 filters → captures more complex patterns\n",
        "m3 = Sequential([\n",
        "    Conv2D(32,(3,3), activation='relu', input_shape=(28,28,1)),\n",
        "    MaxPooling2D((2,2)),\n",
        "    Conv2D(64,(3,3), activation='relu')\n",
        "])\n",
        "m3.summary()\n",
        "\n",
        "act3 = m3.predict(sample)\n",
        "print(\"After Conv2 shape:\", act3.shape)   # e.g. (1,11,11,64) if using valid padding\n",
        "# plot first 12 feature maps of Conv2\n",
        "fig, axs = plt.subplots(2,6, figsize=(15,5))\n",
        "for i in range(12):\n",
        "    axs[i//6, i%6].imshow(act3[0,:,:,i], cmap='viridis')\n",
        "    axs[i//6, i%6].axis('off')\n",
        "plt.suptitle('Conv2 feature maps (first 12)')\n",
        "plt.show()"
      ],
      "metadata": {
        "colab": {
          "base_uri": "https://localhost:8080/",
          "height": 668
        },
        "id": "py07NEPCxU1q",
        "outputId": "bcb54903-6492-4cbf-ad8d-c13b226b893a"
      },
      "execution_count": null,
      "outputs": [
        {
          "output_type": "display_data",
          "data": {
            "text/plain": [
              "\u001b[1mModel: \"sequential_3\"\u001b[0m\n"
            ],
            "text/html": [
              "<pre style=\"white-space:pre;overflow-x:auto;line-height:normal;font-family:Menlo,'DejaVu Sans Mono',consolas,'Courier New',monospace\"><span style=\"font-weight: bold\">Model: \"sequential_3\"</span>\n",
              "</pre>\n"
            ]
          },
          "metadata": {}
        },
        {
          "output_type": "display_data",
          "data": {
            "text/plain": [
              "┏━━━━━━━━━━━━━━━━━━━━━━━━━━━━━━━━━┳━━━━━━━━━━━━━━━━━━━━━━━━┳━━━━━━━━━━━━━━━┓\n",
              "┃\u001b[1m \u001b[0m\u001b[1mLayer (type)                   \u001b[0m\u001b[1m \u001b[0m┃\u001b[1m \u001b[0m\u001b[1mOutput Shape          \u001b[0m\u001b[1m \u001b[0m┃\u001b[1m \u001b[0m\u001b[1m      Param #\u001b[0m\u001b[1m \u001b[0m┃\n",
              "┡━━━━━━━━━━━━━━━━━━━━━━━━━━━━━━━━━╇━━━━━━━━━━━━━━━━━━━━━━━━╇━━━━━━━━━━━━━━━┩\n",
              "│ conv2d_4 (\u001b[38;5;33mConv2D\u001b[0m)               │ (\u001b[38;5;45mNone\u001b[0m, \u001b[38;5;34m26\u001b[0m, \u001b[38;5;34m26\u001b[0m, \u001b[38;5;34m32\u001b[0m)     │           \u001b[38;5;34m320\u001b[0m │\n",
              "├─────────────────────────────────┼────────────────────────┼───────────────┤\n",
              "│ max_pooling2d_3 (\u001b[38;5;33mMaxPooling2D\u001b[0m)  │ (\u001b[38;5;45mNone\u001b[0m, \u001b[38;5;34m13\u001b[0m, \u001b[38;5;34m13\u001b[0m, \u001b[38;5;34m32\u001b[0m)     │             \u001b[38;5;34m0\u001b[0m │\n",
              "├─────────────────────────────────┼────────────────────────┼───────────────┤\n",
              "│ conv2d_5 (\u001b[38;5;33mConv2D\u001b[0m)               │ (\u001b[38;5;45mNone\u001b[0m, \u001b[38;5;34m11\u001b[0m, \u001b[38;5;34m11\u001b[0m, \u001b[38;5;34m64\u001b[0m)     │        \u001b[38;5;34m18,496\u001b[0m │\n",
              "└─────────────────────────────────┴────────────────────────┴───────────────┘\n"
            ],
            "text/html": [
              "<pre style=\"white-space:pre;overflow-x:auto;line-height:normal;font-family:Menlo,'DejaVu Sans Mono',consolas,'Courier New',monospace\">┏━━━━━━━━━━━━━━━━━━━━━━━━━━━━━━━━━┳━━━━━━━━━━━━━━━━━━━━━━━━┳━━━━━━━━━━━━━━━┓\n",
              "┃<span style=\"font-weight: bold\"> Layer (type)                    </span>┃<span style=\"font-weight: bold\"> Output Shape           </span>┃<span style=\"font-weight: bold\">       Param # </span>┃\n",
              "┡━━━━━━━━━━━━━━━━━━━━━━━━━━━━━━━━━╇━━━━━━━━━━━━━━━━━━━━━━━━╇━━━━━━━━━━━━━━━┩\n",
              "│ conv2d_4 (<span style=\"color: #0087ff; text-decoration-color: #0087ff\">Conv2D</span>)               │ (<span style=\"color: #00d7ff; text-decoration-color: #00d7ff\">None</span>, <span style=\"color: #00af00; text-decoration-color: #00af00\">26</span>, <span style=\"color: #00af00; text-decoration-color: #00af00\">26</span>, <span style=\"color: #00af00; text-decoration-color: #00af00\">32</span>)     │           <span style=\"color: #00af00; text-decoration-color: #00af00\">320</span> │\n",
              "├─────────────────────────────────┼────────────────────────┼───────────────┤\n",
              "│ max_pooling2d_3 (<span style=\"color: #0087ff; text-decoration-color: #0087ff\">MaxPooling2D</span>)  │ (<span style=\"color: #00d7ff; text-decoration-color: #00d7ff\">None</span>, <span style=\"color: #00af00; text-decoration-color: #00af00\">13</span>, <span style=\"color: #00af00; text-decoration-color: #00af00\">13</span>, <span style=\"color: #00af00; text-decoration-color: #00af00\">32</span>)     │             <span style=\"color: #00af00; text-decoration-color: #00af00\">0</span> │\n",
              "├─────────────────────────────────┼────────────────────────┼───────────────┤\n",
              "│ conv2d_5 (<span style=\"color: #0087ff; text-decoration-color: #0087ff\">Conv2D</span>)               │ (<span style=\"color: #00d7ff; text-decoration-color: #00d7ff\">None</span>, <span style=\"color: #00af00; text-decoration-color: #00af00\">11</span>, <span style=\"color: #00af00; text-decoration-color: #00af00\">11</span>, <span style=\"color: #00af00; text-decoration-color: #00af00\">64</span>)     │        <span style=\"color: #00af00; text-decoration-color: #00af00\">18,496</span> │\n",
              "└─────────────────────────────────┴────────────────────────┴───────────────┘\n",
              "</pre>\n"
            ]
          },
          "metadata": {}
        },
        {
          "output_type": "display_data",
          "data": {
            "text/plain": [
              "\u001b[1m Total params: \u001b[0m\u001b[38;5;34m18,816\u001b[0m (73.50 KB)\n"
            ],
            "text/html": [
              "<pre style=\"white-space:pre;overflow-x:auto;line-height:normal;font-family:Menlo,'DejaVu Sans Mono',consolas,'Courier New',monospace\"><span style=\"font-weight: bold\"> Total params: </span><span style=\"color: #00af00; text-decoration-color: #00af00\">18,816</span> (73.50 KB)\n",
              "</pre>\n"
            ]
          },
          "metadata": {}
        },
        {
          "output_type": "display_data",
          "data": {
            "text/plain": [
              "\u001b[1m Trainable params: \u001b[0m\u001b[38;5;34m18,816\u001b[0m (73.50 KB)\n"
            ],
            "text/html": [
              "<pre style=\"white-space:pre;overflow-x:auto;line-height:normal;font-family:Menlo,'DejaVu Sans Mono',consolas,'Courier New',monospace\"><span style=\"font-weight: bold\"> Trainable params: </span><span style=\"color: #00af00; text-decoration-color: #00af00\">18,816</span> (73.50 KB)\n",
              "</pre>\n"
            ]
          },
          "metadata": {}
        },
        {
          "output_type": "display_data",
          "data": {
            "text/plain": [
              "\u001b[1m Non-trainable params: \u001b[0m\u001b[38;5;34m0\u001b[0m (0.00 B)\n"
            ],
            "text/html": [
              "<pre style=\"white-space:pre;overflow-x:auto;line-height:normal;font-family:Menlo,'DejaVu Sans Mono',consolas,'Courier New',monospace\"><span style=\"font-weight: bold\"> Non-trainable params: </span><span style=\"color: #00af00; text-decoration-color: #00af00\">0</span> (0.00 B)\n",
              "</pre>\n"
            ]
          },
          "metadata": {}
        },
        {
          "output_type": "stream",
          "name": "stdout",
          "text": [
            "\u001b[1m1/1\u001b[0m \u001b[32m━━━━━━━━━━━━━━━━━━━━\u001b[0m\u001b[37m\u001b[0m \u001b[1m0s\u001b[0m 446ms/step\n",
            "After Conv2 shape: (1, 11, 11, 64)\n"
          ]
        },
        {
          "output_type": "display_data",
          "data": {
            "text/plain": [
              "<Figure size 1500x500 with 12 Axes>"
            ],
            "image/png": "[encoded data removed]"
          },
          "metadata": {}
        }
      ]
    },
    {
      "cell_type": "code",
      "source": [
        "# Conv -> Pool -> Conv -> Pool -> Flatten\n",
        "m4 = Sequential([\n",
        "    Conv2D(32,(3,3), activation='relu', input_shape=(28,28,1)),\n",
        "    MaxPooling2D((2,2)),\n",
        "    Conv2D(64,(3,3), activation='relu'),\n",
        "    MaxPooling2D((2,2)),\n",
        "    Flatten()\n",
        "])\n",
        "m4.summary()\n",
        "\n",
        "flat = m4.predict(sample)\n",
        "print(\"After 2 conv+pool then Flatten, shape:\", flat.shape)   # e.g. (1, 1600) if valid padding -> 5*5*64=1600"
      ],
      "metadata": {
        "colab": {
          "base_uri": "https://localhost:8080/",
          "height": 324
        },
        "id": "X-hvCJQ4xX8T",
        "outputId": "6eef329e-9135-4a55-eb01-7cf226bafb51"
      },
      "execution_count": null,
      "outputs": [
        {
          "output_type": "display_data",
          "data": {
            "text/plain": [
              "\u001b[1mModel: \"sequential_4\"\u001b[0m\n"
            ],
            "text/html": [
              "<pre style=\"white-space:pre;overflow-x:auto;line-height:normal;font-family:Menlo,'DejaVu Sans Mono',consolas,'Courier New',monospace\"><span style=\"font-weight: bold\">Model: \"sequential_4\"</span>\n",
              "</pre>\n"
            ]
          },
          "metadata": {}
        },
        {
          "output_type": "display_data",
          "data": {
            "text/plain": [
              "┏━━━━━━━━━━━━━━━━━━━━━━━━━━━━━━━━━┳━━━━━━━━━━━━━━━━━━━━━━━━┳━━━━━━━━━━━━━━━┓\n",
              "┃\u001b[1m \u001b[0m\u001b[1mLayer (type)                   \u001b[0m\u001b[1m \u001b[0m┃\u001b[1m \u001b[0m\u001b[1mOutput Shape          \u001b[0m\u001b[1m \u001b[0m┃\u001b[1m \u001b[0m\u001b[1m      Param #\u001b[0m\u001b[1m \u001b[0m┃\n",
              "┡━━━━━━━━━━━━━━━━━━━━━━━━━━━━━━━━━╇━━━━━━━━━━━━━━━━━━━━━━━━╇━━━━━━━━━━━━━━━┩\n",
              "│ conv2d_6 (\u001b[38;5;33mConv2D\u001b[0m)               │ (\u001b[38;5;45mNone\u001b[0m, \u001b[38;5;34m26\u001b[0m, \u001b[38;5;34m26\u001b[0m, \u001b[38;5;34m32\u001b[0m)     │           \u001b[38;5;34m320\u001b[0m │\n",
              "├─────────────────────────────────┼────────────────────────┼───────────────┤\n",
              "│ max_pooling2d_4 (\u001b[38;5;33mMaxPooling2D\u001b[0m)  │ (\u001b[38;5;45mNone\u001b[0m, \u001b[38;5;34m13\u001b[0m, \u001b[38;5;34m13\u001b[0m, \u001b[38;5;34m32\u001b[0m)     │             \u001b[38;5;34m0\u001b[0m │\n",
              "├─────────────────────────────────┼────────────────────────┼───────────────┤\n",
              "│ conv2d_7 (\u001b[38;5;33mConv2D\u001b[0m)               │ (\u001b[38;5;45mNone\u001b[0m, \u001b[38;5;34m11\u001b[0m, \u001b[38;5;34m11\u001b[0m, \u001b[38;5;34m64\u001b[0m)     │        \u001b[38;5;34m18,496\u001b[0m │\n",
              "├─────────────────────────────────┼────────────────────────┼───────────────┤\n",
              "│ max_pooling2d_5 (\u001b[38;5;33mMaxPooling2D\u001b[0m)  │ (\u001b[38;5;45mNone\u001b[0m, \u001b[38;5;34m5\u001b[0m, \u001b[38;5;34m5\u001b[0m, \u001b[38;5;34m64\u001b[0m)       │             \u001b[38;5;34m0\u001b[0m │\n",
              "├─────────────────────────────────┼────────────────────────┼───────────────┤\n",
              "│ flatten_1 (\u001b[38;5;33mFlatten\u001b[0m)             │ (\u001b[38;5;45mNone\u001b[0m, \u001b[38;5;34m1600\u001b[0m)           │             \u001b[38;5;34m0\u001b[0m │\n",
              "└─────────────────────────────────┴────────────────────────┴───────────────┘\n"
            ],
            "text/html": [
              "<pre style=\"white-space:pre;overflow-x:auto;line-height:normal;font-family:Menlo,'DejaVu Sans Mono',consolas,'Courier New',monospace\">┏━━━━━━━━━━━━━━━━━━━━━━━━━━━━━━━━━┳━━━━━━━━━━━━━━━━━━━━━━━━┳━━━━━━━━━━━━━━━┓\n",
              "┃<span style=\"font-weight: bold\"> Layer (type)                    </span>┃<span style=\"font-weight: bold\"> Output Shape           </span>┃<span style=\"font-weight: bold\">       Param # </span>┃\n",
              "┡━━━━━━━━━━━━━━━━━━━━━━━━━━━━━━━━━╇━━━━━━━━━━━━━━━━━━━━━━━━╇━━━━━━━━━━━━━━━┩\n",
              "│ conv2d_6 (<span style=\"color: #0087ff; text-decoration-color: #0087ff\">Conv2D</span>)               │ (<span style=\"color: #00d7ff; text-decoration-color: #00d7ff\">None</span>, <span style=\"color: #00af00; text-decoration-color: #00af00\">26</span>, <span style=\"color: #00af00; text-decoration-color: #00af00\">26</span>, <span style=\"color: #00af00; text-decoration-color: #00af00\">32</span>)     │           <span style=\"color: #00af00; text-decoration-color: #00af00\">320</span> │\n",
              "├─────────────────────────────────┼────────────────────────┼───────────────┤\n",
              "│ max_pooling2d_4 (<span style=\"color: #0087ff; text-decoration-color: #0087ff\">MaxPooling2D</span>)  │ (<span style=\"color: #00d7ff; text-decoration-color: #00d7ff\">None</span>, <span style=\"color: #00af00; text-decoration-color: #00af00\">13</span>, <span style=\"color: #00af00; text-decoration-color: #00af00\">13</span>, <span style=\"color: #00af00; text-decoration-color: #00af00\">32</span>)     │             <span style=\"color: #00af00; text-decoration-color: #00af00\">0</span> │\n",
              "├─────────────────────────────────┼────────────────────────┼───────────────┤\n",
              "│ conv2d_7 (<span style=\"color: #0087ff; text-decoration-color: #0087ff\">Conv2D</span>)               │ (<span style=\"color: #00d7ff; text-decoration-color: #00d7ff\">None</span>, <span style=\"color: #00af00; text-decoration-color: #00af00\">11</span>, <span style=\"color: #00af00; text-decoration-color: #00af00\">11</span>, <span style=\"color: #00af00; text-decoration-color: #00af00\">64</span>)     │        <span style=\"color: #00af00; text-decoration-color: #00af00\">18,496</span> │\n",
              "├─────────────────────────────────┼────────────────────────┼───────────────┤\n",
              "│ max_pooling2d_5 (<span style=\"color: #0087ff; text-decoration-color: #0087ff\">MaxPooling2D</span>)  │ (<span style=\"color: #00d7ff; text-decoration-color: #00d7ff\">None</span>, <span style=\"color: #00af00; text-decoration-color: #00af00\">5</span>, <span style=\"color: #00af00; text-decoration-color: #00af00\">5</span>, <span style=\"color: #00af00; text-decoration-color: #00af00\">64</span>)       │             <span style=\"color: #00af00; text-decoration-color: #00af00\">0</span> │\n",
              "├─────────────────────────────────┼────────────────────────┼───────────────┤\n",
              "│ flatten_1 (<span style=\"color: #0087ff; text-decoration-color: #0087ff\">Flatten</span>)             │ (<span style=\"color: #00d7ff; text-decoration-color: #00d7ff\">None</span>, <span style=\"color: #00af00; text-decoration-color: #00af00\">1600</span>)           │             <span style=\"color: #00af00; text-decoration-color: #00af00\">0</span> │\n",
              "└─────────────────────────────────┴────────────────────────┴───────────────┘\n",
              "</pre>\n"
            ]
          },
          "metadata": {}
        },
        {
          "output_type": "display_data",
          "data": {
            "text/plain": [
              "\u001b[1m Total params: \u001b[0m\u001b[38;5;34m18,816\u001b[0m (73.50 KB)\n"
            ],
            "text/html": [
              "<pre style=\"white-space:pre;overflow-x:auto;line-height:normal;font-family:Menlo,'DejaVu Sans Mono',consolas,'Courier New',monospace\"><span style=\"font-weight: bold\"> Total params: </span><span style=\"color: #00af00; text-decoration-color: #00af00\">18,816</span> (73.50 KB)\n",
              "</pre>\n"
            ]
          },
          "metadata": {}
        },
        {
          "output_type": "display_data",
          "data": {
            "text/plain": [
              "\u001b[1m Trainable params: \u001b[0m\u001b[38;5;34m18,816\u001b[0m (73.50 KB)\n"
            ],
            "text/html": [
              "<pre style=\"white-space:pre;overflow-x:auto;line-height:normal;font-family:Menlo,'DejaVu Sans Mono',consolas,'Courier New',monospace\"><span style=\"font-weight: bold\"> Trainable params: </span><span style=\"color: #00af00; text-decoration-color: #00af00\">18,816</span> (73.50 KB)\n",
              "</pre>\n"
            ]
          },
          "metadata": {}
        },
        {
          "output_type": "display_data",
          "data": {
            "text/plain": [
              "\u001b[1m Non-trainable params: \u001b[0m\u001b[38;5;34m0\u001b[0m (0.00 B)\n"
            ],
            "text/html": [
              "<pre style=\"white-space:pre;overflow-x:auto;line-height:normal;font-family:Menlo,'DejaVu Sans Mono',consolas,'Courier New',monospace\"><span style=\"font-weight: bold\"> Non-trainable params: </span><span style=\"color: #00af00; text-decoration-color: #00af00\">0</span> (0.00 B)\n",
              "</pre>\n"
            ]
          },
          "metadata": {}
        },
        {
          "output_type": "stream",
          "name": "stdout",
          "text": [
            "\u001b[1m1/1\u001b[0m \u001b[32m━━━━━━━━━━━━━━━━━━━━\u001b[0m\u001b[37m\u001b[0m \u001b[1m0s\u001b[0m 222ms/step\n",
            "After 2 conv+pool then Flatten, shape: (1, 1600)\n"
          ]
        }
      ]
    },
    {
      "cell_type": "code",
      "source": [
        "# build a small inspect model that outputs Dense(128), Dropout, and final softmax\n",
        "inp = Input(shape=(28,28,1))\n",
        "x = Conv2D(32,(3,3), activation='relu', padding='same')(inp)\n",
        "x = MaxPooling2D((2,2))(x)\n",
        "x = Conv2D(64,(3,3), activation='relu', padding='same')(x)\n",
        "x = MaxPooling2D((2,2))(x)\n",
        "x = Flatten()(x)\n",
        "d128 = Dense(128, activation='relu')(x)  #Dense(128) created a 128-number vector. Each number is a learned “feature strength.”\n",
        "dropped = Dropout(0.5)(d128) #Dropoutyou saw many values forced to 0. That’s dropout randomly turning neurons off.\n",
        "soft = Dense(10, activation='softmax')(dropped) # softmax gave you 10 probabilities that sum to 1. One of them (the largest) is the predicted digit.\n",
        "\n",
        "inspect_model = Model(inputs=inp, outputs=[d128, dropped, soft])\n",
        "inspect_model.summary()\n",
        "\n",
        "# Run in training=True to observe dropout effect; training=False shows inference (dropout off)\n",
        "dense_out, dropout_out_train, soft_out = inspect_model(sample, training=True)\n",
        "print(\"Dense(128) shape:\", dense_out.shape)\n",
        "print(\"Dropout (training=True) shape:\", dropout_out_train.shape)\n",
        "print(\"Softmax probs shape:\", soft_out.shape)\n",
        "print(\"Softmax probs:\", soft_out.numpy())\n",
        "# Count zeros introduced by dropout\n",
        "print(\"Zeros after dropout (training=True):\", np.sum(dropout_out_train.numpy()==0))"
      ],
      "metadata": {
        "id": "aZOQB-a-xa_q",
        "outputId": "7108f161-3352-4daf-8395-019fa66ce8dd",
        "colab": {
          "base_uri": "https://localhost:8080/",
          "height": 521
        }
      },
      "execution_count": null,
      "outputs": [
        {
          "output_type": "display_data",
          "data": {
            "text/plain": [
              "\u001b[1mModel: \"functional_5\"\u001b[0m\n"
            ],
            "text/html": [
              "<pre style=\"white-space:pre;overflow-x:auto;line-height:normal;font-family:Menlo,'DejaVu Sans Mono',consolas,'Courier New',monospace\"><span style=\"font-weight: bold\">Model: \"functional_5\"</span>\n",
              "</pre>\n"
            ]
          },
          "metadata": {}
        },
        {
          "output_type": "display_data",
          "data": {
            "text/plain": [
              "┏━━━━━━━━━━━━━━━━━━━━━━━━━━━━━━━━━┳━━━━━━━━━━━━━━━━━━━━━━━━┳━━━━━━━━━━━━━━━┓\n",
              "┃\u001b[1m \u001b[0m\u001b[1mLayer (type)                   \u001b[0m\u001b[1m \u001b[0m┃\u001b[1m \u001b[0m\u001b[1mOutput Shape          \u001b[0m\u001b[1m \u001b[0m┃\u001b[1m \u001b[0m\u001b[1m      Param #\u001b[0m\u001b[1m \u001b[0m┃\n",
              "┡━━━━━━━━━━━━━━━━━━━━━━━━━━━━━━━━━╇━━━━━━━━━━━━━━━━━━━━━━━━╇━━━━━━━━━━━━━━━┩\n",
              "│ input_layer_5 (\u001b[38;5;33mInputLayer\u001b[0m)      │ (\u001b[38;5;45mNone\u001b[0m, \u001b[38;5;34m28\u001b[0m, \u001b[38;5;34m28\u001b[0m, \u001b[38;5;34m1\u001b[0m)      │             \u001b[38;5;34m0\u001b[0m │\n",
              "├─────────────────────────────────┼────────────────────────┼───────────────┤\n",
              "│ conv2d_8 (\u001b[38;5;33mConv2D\u001b[0m)               │ (\u001b[38;5;45mNone\u001b[0m, \u001b[38;5;34m28\u001b[0m, \u001b[38;5;34m28\u001b[0m, \u001b[38;5;34m32\u001b[0m)     │           \u001b[38;5;34m320\u001b[0m │\n",
              "├─────────────────────────────────┼────────────────────────┼───────────────┤\n",
              "│ max_pooling2d_6 (\u001b[38;5;33mMaxPooling2D\u001b[0m)  │ (\u001b[38;5;45mNone\u001b[0m, \u001b[38;5;34m14\u001b[0m, \u001b[38;5;34m14\u001b[0m, \u001b[38;5;34m32\u001b[0m)     │             \u001b[38;5;34m0\u001b[0m │\n",
              "├─────────────────────────────────┼────────────────────────┼───────────────┤\n",
              "│ conv2d_9 (\u001b[38;5;33mConv2D\u001b[0m)               │ (\u001b[38;5;45mNone\u001b[0m, \u001b[38;5;34m14\u001b[0m, \u001b[38;5;34m14\u001b[0m, \u001b[38;5;34m64\u001b[0m)     │        \u001b[38;5;34m18,496\u001b[0m │\n",
              "├─────────────────────────────────┼────────────────────────┼───────────────┤\n",
              "│ max_pooling2d_7 (\u001b[38;5;33mMaxPooling2D\u001b[0m)  │ (\u001b[38;5;45mNone\u001b[0m, \u001b[38;5;34m7\u001b[0m, \u001b[38;5;34m7\u001b[0m, \u001b[38;5;34m64\u001b[0m)       │             \u001b[38;5;34m0\u001b[0m │\n",
              "├─────────────────────────────────┼────────────────────────┼───────────────┤\n",
              "│ flatten_2 (\u001b[38;5;33mFlatten\u001b[0m)             │ (\u001b[38;5;45mNone\u001b[0m, \u001b[38;5;34m3136\u001b[0m)           │             \u001b[38;5;34m0\u001b[0m │\n",
              "├─────────────────────────────────┼────────────────────────┼───────────────┤\n",
              "│ dense_2 (\u001b[38;5;33mDense\u001b[0m)                 │ (\u001b[38;5;45mNone\u001b[0m, \u001b[38;5;34m128\u001b[0m)            │       \u001b[38;5;34m401,536\u001b[0m │\n",
              "├─────────────────────────────────┼────────────────────────┼───────────────┤\n",
              "│ dropout_1 (\u001b[38;5;33mDropout\u001b[0m)             │ (\u001b[38;5;45mNone\u001b[0m, \u001b[38;5;34m128\u001b[0m)            │             \u001b[38;5;34m0\u001b[0m │\n",
              "├─────────────────────────────────┼────────────────────────┼───────────────┤\n",
              "│ dense_3 (\u001b[38;5;33mDense\u001b[0m)                 │ (\u001b[38;5;45mNone\u001b[0m, \u001b[38;5;34m10\u001b[0m)             │         \u001b[38;5;34m1,290\u001b[0m │\n",
              "└─────────────────────────────────┴────────────────────────┴───────────────┘\n"
            ],
            "text/html": [
              "<pre style=\"white-space:pre;overflow-x:auto;line-height:normal;font-family:Menlo,'DejaVu Sans Mono',consolas,'Courier New',monospace\">┏━━━━━━━━━━━━━━━━━━━━━━━━━━━━━━━━━┳━━━━━━━━━━━━━━━━━━━━━━━━┳━━━━━━━━━━━━━━━┓\n",
              "┃<span style=\"font-weight: bold\"> Layer (type)                    </span>┃<span style=\"font-weight: bold\"> Output Shape           </span>┃<span style=\"font-weight: bold\">       Param # </span>┃\n",
              "┡━━━━━━━━━━━━━━━━━━━━━━━━━━━━━━━━━╇━━━━━━━━━━━━━━━━━━━━━━━━╇━━━━━━━━━━━━━━━┩\n",
              "│ input_layer_5 (<span style=\"color: #0087ff; text-decoration-color: #0087ff\">InputLayer</span>)      │ (<span style=\"color: #00d7ff; text-decoration-color: #00d7ff\">None</span>, <span style=\"color: #00af00; text-decoration-color: #00af00\">28</span>, <span style=\"color: #00af00; text-decoration-color: #00af00\">28</span>, <span style=\"color: #00af00; text-decoration-color: #00af00\">1</span>)      │             <span style=\"color: #00af00; text-decoration-color: #00af00\">0</span> │\n",
              "├─────────────────────────────────┼────────────────────────┼───────────────┤\n",
              "│ conv2d_8 (<span style=\"color: #0087ff; text-decoration-color: #0087ff\">Conv2D</span>)               │ (<span style=\"color: #00d7ff; text-decoration-color: #00d7ff\">None</span>, <span style=\"color: #00af00; text-decoration-color: #00af00\">28</span>, <span style=\"color: #00af00; text-decoration-color: #00af00\">28</span>, <span style=\"color: #00af00; text-decoration-color: #00af00\">32</span>)     │           <span style=\"color: #00af00; text-decoration-color: #00af00\">320</span> │\n",
              "├─────────────────────────────────┼────────────────────────┼───────────────┤\n",
              "│ max_pooling2d_6 (<span style=\"color: #0087ff; text-decoration-color: #0087ff\">MaxPooling2D</span>)  │ (<span style=\"color: #00d7ff; text-decoration-color: #00d7ff\">None</span>, <span style=\"color: #00af00; text-decoration-color: #00af00\">14</span>, <span style=\"color: #00af00; text-decoration-color: #00af00\">14</span>, <span style=\"color: #00af00; text-decoration-color: #00af00\">32</span>)     │             <span style=\"color: #00af00; text-decoration-color: #00af00\">0</span> │\n",
              "├─────────────────────────────────┼────────────────────────┼───────────────┤\n",
              "│ conv2d_9 (<span style=\"color: #0087ff; text-decoration-color: #0087ff\">Conv2D</span>)               │ (<span style=\"color: #00d7ff; text-decoration-color: #00d7ff\">None</span>, <span style=\"color: #00af00; text-decoration-color: #00af00\">14</span>, <span style=\"color: #00af00; text-decoration-color: #00af00\">14</span>, <span style=\"color: #00af00; text-decoration-color: #00af00\">64</span>)     │        <span style=\"color: #00af00; text-decoration-color: #00af00\">18,496</span> │\n",
              "├─────────────────────────────────┼────────────────────────┼───────────────┤\n",
              "│ max_pooling2d_7 (<span style=\"color: #0087ff; text-decoration-color: #0087ff\">MaxPooling2D</span>)  │ (<span style=\"color: #00d7ff; text-decoration-color: #00d7ff\">None</span>, <span style=\"color: #00af00; text-decoration-color: #00af00\">7</span>, <span style=\"color: #00af00; text-decoration-color: #00af00\">7</span>, <span style=\"color: #00af00; text-decoration-color: #00af00\">64</span>)       │             <span style=\"color: #00af00; text-decoration-color: #00af00\">0</span> │\n",
              "├─────────────────────────────────┼────────────────────────┼───────────────┤\n",
              "│ flatten_2 (<span style=\"color: #0087ff; text-decoration-color: #0087ff\">Flatten</span>)             │ (<span style=\"color: #00d7ff; text-decoration-color: #00d7ff\">None</span>, <span style=\"color: #00af00; text-decoration-color: #00af00\">3136</span>)           │             <span style=\"color: #00af00; text-decoration-color: #00af00\">0</span> │\n",
              "├─────────────────────────────────┼────────────────────────┼───────────────┤\n",
              "│ dense_2 (<span style=\"color: #0087ff; text-decoration-color: #0087ff\">Dense</span>)                 │ (<span style=\"color: #00d7ff; text-decoration-color: #00d7ff\">None</span>, <span style=\"color: #00af00; text-decoration-color: #00af00\">128</span>)            │       <span style=\"color: #00af00; text-decoration-color: #00af00\">401,536</span> │\n",
              "├─────────────────────────────────┼────────────────────────┼───────────────┤\n",
              "│ dropout_1 (<span style=\"color: #0087ff; text-decoration-color: #0087ff\">Dropout</span>)             │ (<span style=\"color: #00d7ff; text-decoration-color: #00d7ff\">None</span>, <span style=\"color: #00af00; text-decoration-color: #00af00\">128</span>)            │             <span style=\"color: #00af00; text-decoration-color: #00af00\">0</span> │\n",
              "├─────────────────────────────────┼────────────────────────┼───────────────┤\n",
              "│ dense_3 (<span style=\"color: #0087ff; text-decoration-color: #0087ff\">Dense</span>)                 │ (<span style=\"color: #00d7ff; text-decoration-color: #00d7ff\">None</span>, <span style=\"color: #00af00; text-decoration-color: #00af00\">10</span>)             │         <span style=\"color: #00af00; text-decoration-color: #00af00\">1,290</span> │\n",
              "└─────────────────────────────────┴────────────────────────┴───────────────┘\n",
              "</pre>\n"
            ]
          },
          "metadata": {}
        },
        {
          "output_type": "display_data",
          "data": {
            "text/plain": [
              "\u001b[1m Total params: \u001b[0m\u001b[38;5;34m421,642\u001b[0m (1.61 MB)\n"
            ],
            "text/html": [
              "<pre style=\"white-space:pre;overflow-x:auto;line-height:normal;font-family:Menlo,'DejaVu Sans Mono',consolas,'Courier New',monospace\"><span style=\"font-weight: bold\"> Total params: </span><span style=\"color: #00af00; text-decoration-color: #00af00\">421,642</span> (1.61 MB)\n",
              "</pre>\n"
            ]
          },
          "metadata": {}
        },
        {
          "output_type": "display_data",
          "data": {
            "text/plain": [
              "\u001b[1m Trainable params: \u001b[0m\u001b[38;5;34m421,642\u001b[0m (1.61 MB)\n"
            ],
            "text/html": [
              "<pre style=\"white-space:pre;overflow-x:auto;line-height:normal;font-family:Menlo,'DejaVu Sans Mono',consolas,'Courier New',monospace\"><span style=\"font-weight: bold\"> Trainable params: </span><span style=\"color: #00af00; text-decoration-color: #00af00\">421,642</span> (1.61 MB)\n",
              "</pre>\n"
            ]
          },
          "metadata": {}
        },
        {
          "output_type": "display_data",
          "data": {
            "text/plain": [
              "\u001b[1m Non-trainable params: \u001b[0m\u001b[38;5;34m0\u001b[0m (0.00 B)\n"
            ],
            "text/html": [
              "<pre style=\"white-space:pre;overflow-x:auto;line-height:normal;font-family:Menlo,'DejaVu Sans Mono',consolas,'Courier New',monospace\"><span style=\"font-weight: bold\"> Non-trainable params: </span><span style=\"color: #00af00; text-decoration-color: #00af00\">0</span> (0.00 B)\n",
              "</pre>\n"
            ]
          },
          "metadata": {}
        },
        {
          "output_type": "stream",
          "name": "stdout",
          "text": [
            "Dense(128) shape: (1, 128)\n",
            "Dropout (training=True) shape: (1, 128)\n",
            "Softmax probs shape: (1, 10)\n",
            "Softmax probs: [[0.09518154 0.10457329 0.09545717 0.09458666 0.09893757 0.07214944\n",
            "  0.11974955 0.11260165 0.11009968 0.0966635 ]]\n",
            "Zeros after dropout (training=True): 97\n"
          ]
        }
      ]
    },
    {
      "cell_type": "markdown",
      "source": [
        "In order to better understand how a Convolutional Neural Network works,\n",
        "we inspected the output of each layer step by step.  \n",
        "By running the model layer-by-layer on a sample image, we could **visualize the feature maps**\n",
        "and observe how the network gradually transforms the input:\n",
        "\n",
        "- **Conv layers** highlight edges, curves, and simple patterns.  \n",
        "- **Pooling layers** reduce image size while keeping the most important signals.  \n",
        "- **Deeper conv layers** detect more complex structures like digit shapes.  \n",
        "- **Flatten + Dense** convert these features into a decision vector.  \n",
        "- **Dropout** shows how some neurons are randomly disabled during training to prevent overfitting.  \n",
        "- **Softmax output** finally gives probabilities for each digit.  \n",
        "\n",
        "This process helps us gain intuition about what each layer is doing,\n",
        "instead of treating the CNN as a “black box.”\n"
      ],
      "metadata": {
        "id": "xvRltblpm2SL"
      }
    },
    {
      "cell_type": "markdown",
      "source": [
        "# Step 4: Model Compilation"
      ],
      "metadata": {
        "id": "JaGC8uw752__"
      }
    },
    {
      "cell_type": "code",
      "source": [
        "# Compile the model\n",
        "model.compile(\n",
        "    optimizer='adam', # optimizer is how the model improves after ech mistake , Adam is the best optimizer it Combines the best of SGD(It learns from the current mistake) + momentum(Also remembers previous mistakes) + adaptive learning rate (Adjusts learning speed automatically)\n",
        "    loss='categorical_crossentropy', #loss is a number that tells how bad the prediction was by comparing the prediction to the correct answer , we have multi class classification so  we use categorical crossentropy\n",
        "    metrics=['accuracy'] # accuracy is the % of correct predictions it is good for balances dataset\n",
        ")"
      ],
      "metadata": {
        "id": "kxADFfA352zP"
      },
      "execution_count": null,
      "outputs": []
    },
    {
      "cell_type": "markdown",
      "source": [
        "# Step 5: Train the Model"
      ],
      "metadata": {
        "id": "uC6TUh3u78-7"
      }
    },
    {
      "cell_type": "code",
      "source": [
        "history = model.fit(\n",
        "    x_train, y_train_cat,      # training data\n",
        "    epochs=10,                 # how many times to go over the training set\n",
        "    batch_size=128,            # how many samples at a time\n",
        "    validation_data=(x_val, y_val_cat),  # check performance on validation set\n",
        "    verbose=2                  # how much detail to show while training\n",
        ")\n"
      ],
      "metadata": {
        "colab": {
          "base_uri": "https://localhost:8080/"
        },
        "id": "Dy27p3zK8AlQ",
        "outputId": "c16994bb-0794-41d2-a5df-a3771a247a70"
      },
      "execution_count": null,
      "outputs": [
        {
          "output_type": "stream",
          "name": "stdout",
          "text": [
            "Epoch 1/10\n",
            "430/430 - 9s - 22ms/step - accuracy: 0.9004 - loss: 0.3295 - val_accuracy: 0.9842 - val_loss: 0.0557\n",
            "Epoch 2/10\n",
            "430/430 - 2s - 4ms/step - accuracy: 0.9705 - loss: 0.0980 - val_accuracy: 0.9894 - val_loss: 0.0420\n",
            "Epoch 3/10\n",
            "430/430 - 2s - 6ms/step - accuracy: 0.9783 - loss: 0.0713 - val_accuracy: 0.9900 - val_loss: 0.0358\n",
            "Epoch 4/10\n",
            "430/430 - 3s - 7ms/step - accuracy: 0.9837 - loss: 0.0550 - val_accuracy: 0.9924 - val_loss: 0.0321\n",
            "Epoch 5/10\n",
            "430/430 - 2s - 5ms/step - accuracy: 0.9850 - loss: 0.0472 - val_accuracy: 0.9924 - val_loss: 0.0310\n",
            "Epoch 6/10\n",
            "430/430 - 2s - 4ms/step - accuracy: 0.9874 - loss: 0.0414 - val_accuracy: 0.9894 - val_loss: 0.0340\n",
            "Epoch 7/10\n",
            "430/430 - 3s - 6ms/step - accuracy: 0.9887 - loss: 0.0367 - val_accuracy: 0.9928 - val_loss: 0.0298\n",
            "Epoch 8/10\n",
            "430/430 - 3s - 6ms/step - accuracy: 0.9897 - loss: 0.0318 - val_accuracy: 0.9920 - val_loss: 0.0308\n",
            "Epoch 9/10\n",
            "430/430 - 3s - 7ms/step - accuracy: 0.9911 - loss: 0.0285 - val_accuracy: 0.9916 - val_loss: 0.0337\n",
            "Epoch 10/10\n",
            "430/430 - 2s - 5ms/step - accuracy: 0.9919 - loss: 0.0259 - val_accuracy: 0.9930 - val_loss: 0.0268\n"
          ]
        }
      ]
    },
    {
      "cell_type": "code",
      "source": [
        "# Plot training vs validation accuracy\n",
        "plt.figure(figsize=(12,5))\n",
        "\n",
        "plt.subplot(1,2,1)\n",
        "plt.plot(history.history['accuracy'], label='Train Accuracy')\n",
        "plt.plot(history.history['val_accuracy'], label='Val Accuracy')\n",
        "plt.title('Accuracy over epochs')\n",
        "plt.xlabel('Epoch')\n",
        "plt.ylabel('Accuracy')\n",
        "plt.legend()\n",
        "\n",
        "# Plot loss\n",
        "plt.subplot(1,2,2)\n",
        "plt.plot(history.history['loss'], label='Train Loss')\n",
        "plt.plot(history.history['val_loss'], label='Val Loss')\n",
        "plt.title('Loss over epochs')\n",
        "plt.xlabel('Epoch')\n",
        "plt.ylabel('Loss')\n",
        "plt.legend()\n",
        "\n",
        "plt.show()"
      ],
      "metadata": {
        "colab": {
          "base_uri": "https://localhost:8080/"
        },
        "id": "WpIjlr0J8ZWf",
        "outputId": "0dd50042-ddd3-4223-f3de-c2286bb8d1d2"
      },
      "execution_count": null,
      "outputs": [
        {
          "output_type": "display_data",
          "data": {
            "text/plain": [
              "<Figure size 1200x500 with 2 Axes>"
            ],
            "image/png": "[encoded data removed]"
          },
          "metadata": {}
        }
      ]
    },
    {
      "cell_type": "markdown",
      "source": [
        "###  Training Curves Interpretation\n",
        "\n",
        "The training and validation curves show that our CNN is learning effectively:\n",
        "\n",
        "- **Accuracy**: Both training and validation accuracy quickly rise and stabilize around ~99%.  \n",
        "- **Loss**: Both training and validation loss decrease sharply and remain very low.  \n",
        "- **Gap between curves**: Training and validation performance are very close, indicating **no major overfitting**.  \n",
        "\n",
        "Overall, the model generalizes well to unseen data and achieves excellent performance on the MNIST dataset."
      ],
      "metadata": {
        "id": "C7L0l3AV-Pg6"
      }
    },
    {
      "cell_type": "markdown",
      "source": [
        "# Step 6: Evaluate the model"
      ],
      "metadata": {
        "id": "P7YK5Oay_JEo"
      }
    },
    {
      "cell_type": "code",
      "source": [
        "# Evaluate model on test data\n",
        "test_loss, test_acc = model.evaluate(x_test, y_test_cat, verbose=0)\n",
        "\n",
        "print(f\"Test Accuracy: {test_acc*100:.2f}%\")\n",
        "print(f\"Test Loss: {test_loss:.4f}\")"
      ],
      "metadata": {
        "colab": {
          "base_uri": "https://localhost:8080/"
        },
        "id": "OFYtF3sf-hRq",
        "outputId": "0818ecba-b3a9-4d4b-81ee-e8a94764bb09"
      },
      "execution_count": null,
      "outputs": [
        {
          "output_type": "stream",
          "name": "stdout",
          "text": [
            "Test Accuracy: 99.26%\n",
            "Test Loss: 0.0213\n"
          ]
        }
      ]
    },
    {
      "cell_type": "code",
      "source": [
        "# making predictions on first 10 test images\n",
        "pred_probs = model.predict(x_test[:10])\n",
        "pred_labels = np.argmax(pred_probs, axis=1)\n",
        "\n",
        "print(\"Predicted labels:\", pred_labels)\n",
        "print(\"True labels     :\", y_test[:10])"
      ],
      "metadata": {
        "colab": {
          "base_uri": "https://localhost:8080/"
        },
        "id": "Gr-GDMsY-rry",
        "outputId": "05525ce2-c138-45e6-a275-5fef0705f6cb"
      },
      "execution_count": null,
      "outputs": [
        {
          "output_type": "stream",
          "name": "stderr",
          "text": [
            "WARNING:tensorflow:5 out of the last 5 calls to <function TensorFlowTrainer.make_predict_function.<locals>.one_step_on_data_distributed at 0x7cf0801d0e00> triggered tf.function retracing. Tracing is expensive and the excessive number of tracings could be due to (1) creating @tf.function repeatedly in a loop, (2) passing tensors with different shapes, (3) passing Python objects instead of tensors. For (1), please define your @tf.function outside of the loop. For (2), @tf.function has reduce_retracing=True option that can avoid unnecessary retracing. For (3), please refer to https://www.tensorflow.org/guide/function#controlling_retracing and https://www.tensorflow.org/api_docs/python/tf/function for  more details.\n"
          ]
        },
        {
          "output_type": "stream",
          "name": "stdout",
          "text": [
            "\u001b[1m1/1\u001b[0m \u001b[32m━━━━━━━━━━━━━━━━━━━━\u001b[0m\u001b[37m\u001b[0m \u001b[1m0s\u001b[0m 407ms/step\n",
            "Predicted labels: [7 2 1 0 4 1 4 9 5 9]\n",
            "True labels     : [7 2 1 0 4 1 4 9 5 9]\n"
          ]
        }
      ]
    },
    {
      "cell_type": "code",
      "source": [
        "# visualize predictions (correct vs wrong)\n",
        "plt.figure(figsize=(12,4))\n",
        "for i in range(10):\n",
        "    plt.subplot(2,5,i+1)\n",
        "    plt.imshow(x_test[i].reshape(28,28), cmap='gray')\n",
        "    plt.title(f\"Pred: {pred_labels[i]}, True: {y_test[i]}\")\n",
        "    plt.axis('off')\n",
        "plt.suptitle(\"Sample Predictions on Test Images\", fontsize=16)\n",
        "plt.show()"
      ],
      "metadata": {
        "colab": {
          "base_uri": "https://localhost:8080/"
        },
        "id": "7CGy0_6X-wPL",
        "outputId": "bd4d3f72-29c2-42a6-e9f8-0c5e70f4329c"
      },
      "execution_count": null,
      "outputs": [
        {
          "output_type": "display_data",
          "data": {
            "text/plain": [
              "<Figure size 1200x400 with 10 Axes>"
            ],
            "image/png": "[encoded data removed]"
          },
          "metadata": {}
        }
      ]
    },
    {
      "cell_type": "code",
      "source": [
        "# plotting confusion matrix\n",
        "# Predict labels for the entire test set\n",
        "y_pred_probs = model.predict(x_test)\n",
        "y_pred = np.argmax(y_pred_probs, axis=1)\n",
        "\n",
        "# Compute confusion matrix\n",
        "cm = confusion_matrix(y_test, y_pred)\n",
        "\n",
        "# Display it nicely\n",
        "disp = ConfusionMatrixDisplay(confusion_matrix=cm, display_labels=range(10))\n",
        "disp.plot(cmap='Blues', values_format='d')\n",
        "plt.title(\"Confusion Matrix on Test Set\")\n",
        "plt.show()\n",
        "\n",
        "\n",
        "\n",
        "# Generate classification report\n",
        "report = classification_report(y_test, y_pred, digits=4)\n",
        "print(report)\n"
      ],
      "metadata": {
        "colab": {
          "base_uri": "https://localhost:8080/",
          "height": 822
        },
        "id": "cdRBLBMn_ie_",
        "outputId": "c609d5a1-8c4e-4f26-f329-843682fb9137"
      },
      "execution_count": null,
      "outputs": [
        {
          "output_type": "stream",
          "name": "stderr",
          "text": [
            "WARNING:tensorflow:6 out of the last 6 calls to <function TensorFlowTrainer.make_predict_function.<locals>.one_step_on_data_distributed at 0x7cf0801d0e00> triggered tf.function retracing. Tracing is expensive and the excessive number of tracings could be due to (1) creating @tf.function repeatedly in a loop, (2) passing tensors with different shapes, (3) passing Python objects instead of tensors. For (1), please define your @tf.function outside of the loop. For (2), @tf.function has reduce_retracing=True option that can avoid unnecessary retracing. For (3), please refer to https://www.tensorflow.org/guide/function#controlling_retracing and https://www.tensorflow.org/api_docs/python/tf/function for  more details.\n"
          ]
        },
        {
          "output_type": "stream",
          "name": "stdout",
          "text": [
            "\u001b[1m313/313\u001b[0m \u001b[32m━━━━━━━━━━━━━━━━━━━━\u001b[0m\u001b[37m\u001b[0m \u001b[1m1s\u001b[0m 2ms/step\n"
          ]
        },
        {
          "output_type": "display_data",
          "data": {
            "text/plain": [
              "<Figure size 640x480 with 2 Axes>"
            ],
            "image/png": "[encoded data removed]"
          },
          "metadata": {}
        },
        {
          "output_type": "stream",
          "name": "stdout",
          "text": [
            "              precision    recall  f1-score   support\n",
            "\n",
            "           0     0.9949    0.9949    0.9949       980\n",
            "           1     0.9930    0.9982    0.9956      1135\n",
            "           2     0.9971    0.9884    0.9927      1032\n",
            "           3     0.9911    0.9960    0.9936      1010\n",
            "           4     0.9949    0.9919    0.9934       982\n",
            "           5     0.9877    0.9922    0.9899       892\n",
            "           6     0.9917    0.9927    0.9922       958\n",
            "           7     0.9922    0.9912    0.9917      1028\n",
            "           8     0.9959    0.9897    0.9928       974\n",
            "           9     0.9872    0.9901    0.9886      1009\n",
            "\n",
            "    accuracy                         0.9926     10000\n",
            "   macro avg     0.9926    0.9925    0.9925     10000\n",
            "weighted avg     0.9926    0.9926    0.9926     10000\n",
            "\n"
          ]
        }
      ]
    },
    {
      "cell_type": "code",
      "source": [
        "# Save the model in HDF5 format\n",
        "model.save(\"mnist_cnn.h5\")\n",
        "print(\"Model saved successfully!\")"
      ],
      "metadata": {
        "colab": {
          "base_uri": "https://localhost:8080/"
        },
        "id": "f6jdsP-SBGaa",
        "outputId": "de737ea2-a752-42cb-a538-2fcdae5f9282"
      },
      "execution_count": null,
      "outputs": [
        {
          "output_type": "stream",
          "name": "stderr",
          "text": [
            "WARNING:absl:You are saving your model as an HDF5 file via `model.save()` or `keras.saving.save_model(model)`. This file format is considered legacy. We recommend using instead the native Keras format, e.g. `model.save('my_model.keras')` or `keras.saving.save_model(model, 'my_model.keras')`. \n"
          ]
        },
        {
          "output_type": "stream",
          "name": "stdout",
          "text": [
            "Model saved successfully!\n"
          ]
        }
      ]
    },
    {
      "cell_type": "code",
      "source": [
        "# Load the saved model\n",
        "loaded_model = load_model(\"mnist_cnn.h5\")\n",
        "\n",
        "# Check performance to confirm it works\n",
        "loss, acc = loaded_model.evaluate(x_test, y_test_cat, verbose=0)\n",
        "print(f\"Loaded model accuracy: {acc*100:.2f}%\")"
      ],
      "metadata": {
        "colab": {
          "base_uri": "https://localhost:8080/"
        },
        "id": "jC5dapUOBIDZ",
        "outputId": "24c156e8-5abd-4cba-afd3-b703c6ee4a01"
      },
      "execution_count": null,
      "outputs": [
        {
          "output_type": "stream",
          "name": "stderr",
          "text": [
            "WARNING:absl:Compiled the loaded model, but the compiled metrics have yet to be built. `model.compile_metrics` will be empty until you train or evaluate the model.\n"
          ]
        },
        {
          "output_type": "stream",
          "name": "stdout",
          "text": [
            "Loaded model accuracy: 99.26%\n"
          ]
        }
      ]
    },
    {
      "cell_type": "markdown",
      "source": [
        "##  Conclusion\n",
        "\n",
        "In this project, we successfully built and trained a Convolutional Neural Network (CNN) on the MNIST handwritten digits dataset.  \n",
        "Here’s what we achieved and learned:\n",
        "\n",
        "- **Data exploration** confirmed that the dataset is balanced and consists of grayscale 28×28 images of digits (0–9).  \n",
        "- **Preprocessing** steps included reshaping, normalization, and one-hot encoding to prepare the data for CNN training.  \n",
        "- **Model architecture**:  \n",
        "  - Stacked convolutional and pooling layers to automatically extract features.  \n",
        "  - Flatten + Dense layers to interpret features and make decisions.  \n",
        "  - Dropout to prevent overfitting.  \n",
        "- **Training results**:  \n",
        "  - Achieved ~99% accuracy on training, validation, and test sets.  \n",
        "  - Loss curves showed stable learning without overfitting.  \n",
        "- **Evaluation**:  \n",
        "  - Confusion matrix revealed only very few misclassifications (mostly between similar-looking digits).  \n",
        "  - Classification report showed precision, recall, and F1-score close to 0.99 for all classes.  \n",
        "- **Model saved** in `.h5` format for future use without retraining.\n",
        "\n",
        "###  Key Learnings\n",
        "- CNNs can automatically learn patterns from images (edges → shapes → digits).  \n",
        "- Preprocessing and proper architecture design are critical for performance.  \n",
        "- Monitoring both training and validation metrics helps detect overfitting/underfitting.  \n",
        "- Even a relatively simple CNN can achieve state-of-the-art accuracy on MNIST.\n",
        "\n",
        "\n",
        "## Future Work\n",
        "\n",
        "Although our CNN performed extremely well on MNIST, there are several ways we could extend or improve this project:\n",
        "\n",
        "1. **Data Augmentation**  \n",
        "   - Apply transformations like rotation, shifting, or zooming to create more training examples.  \n",
        "   - Helps the model generalize better to handwriting variations.\n",
        "\n",
        "2. **Regularization Techniques**  \n",
        "   - Try `BatchNormalization` or `L2 regularization` in addition to Dropout.  \n",
        "   - Can further stabilize training.\n",
        "\n",
        "3. **Deeper Architectures**  \n",
        "   - Experiment with more convolutional layers or advanced architectures (e.g., LeNet-5, VGG-like networks).  \n",
        "   - Compare performance and training time.\n",
        "\n",
        "4. **Hyperparameter Tuning**  \n",
        "   - Change learning rate, batch size, number of filters, or dense units.  \n",
        "   - Use tools like Keras Tuner for automated tuning.\n",
        "\n",
        "5. **Transfer Learning**  \n",
        "   - Use a pretrained CNN (e.g., trained on ImageNet) and fine-tune it for MNIST.  \n",
        "   - Useful for scaling to more complex datasets.\n",
        "\n",
        "6. **Deployment**  \n",
        "   - Convert the trained model to TensorFlow Lite or ONNX.  \n",
        "   - Deploy on mobile or web apps for real-time digit recognition.\n",
        ".\n"
      ],
      "metadata": {
        "id": "EInSBw64AwwM"
      }
    }
  ]
}